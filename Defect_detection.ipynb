{
  "cells": [
    {
      "metadata": {
        "collapsed": true
      },
      "cell_type": "markdown",
      "source": "## Defect Detection"
    },
    {
      "metadata": {},
      "cell_type": "markdown",
      "source": "### Dataset Information\n\nProject Assignment\n\n    Defect Detection in Manufacturing Systems\n\n    In todays’ highly competitive markets, customers expect defect free products. High defect ratios in manufacturing yield unwanted additional costs that decrease the profit margins. In this competition the students are expected to use and calibrate machine learning (ML) algorithms for predicting and detecting defects at the manufacturing stage of a product used in fabric detergents production.\n    \n    The attendants will compare the prediction performances and determine the most appropriate modelling algorithm among different ML techniques. The data which is used in this study provided by one of the leading manufacturing companies in Turkey. The students are strongly recommended to use feature engineering techniques using the originally provided features. \n"
    },
    {
      "metadata": {},
      "cell_type": "markdown",
      "source": "### Attribute Information\n\n\nExplanation of features in the dataset:\n\n1. Date: Data of measurement\n2. Shift Period: Measurement shift period\n3. Measurement Time: Time information of measurement\n4. Experience: Experience information of measurement (a metric related with the measurement, not related with operator) olcumun hangi kosullarda yapildigini gostermekte ve o da kategorik varirable.\n5. Percentage of dye (%): Percentage of coloring\n6. Flow rate: Flow rate of coloring\n7. Part: Which part of product is colored.\n8. Teflon: Teflon rate of part\n9. Thickness: Thickness rate of coloring.\n10. Strap: Information of coloring in which strap is used. Kategorik renklendirme icin kullanilan aski aparatinin hangi id’de oldugunu belirliyor.\n11. Defective or not defective: Defect information of coloring. This variable will be the target variable in prediction stage.\n"
    },
    {
      "metadata": {
        "trusted": true
      },
      "cell_type": "code",
      "source": "install.packages(\"readxl\")",
      "execution_count": null,
      "outputs": [
        {
          "output_type": "stream",
          "text": "Installing package into ‘/home/nbuser/R’\n(as ‘lib’ is unspecified)\n",
          "name": "stderr"
        }
      ]
    },
    {
      "metadata": {
        "trusted": true
      },
      "cell_type": "code",
      "source": "library(readxl)\ndata = read_excel(\"/home/nbuser/library/defect_detection_dataset.xlsx\")",
      "execution_count": 117,
      "outputs": []
    },
    {
      "metadata": {
        "trusted": true
      },
      "cell_type": "code",
      "source": "head(data)",
      "execution_count": 118,
      "outputs": [
        {
          "output_type": "display_data",
          "data": {
            "text/plain": "  Date       Shift Time                Operator Experience DyePercentage\n1 2017-11-01 16/24 1899-12-31 18:30:00 26000392 2.5        106          \n2 2017-11-02 08/16 1899-12-31 08:35:00   110485  NA        102          \n3 2017-11-02 16/24 1899-12-31 18:00:00   111891 3.0        107          \n4 2017-11-03 00/08 1899-12-31 02:30:00   709050 5.0        110          \n5 2017-11-03 08/16 1899-12-31 08:15:00   112241 2.5        110          \n6 2017-11-03 08/16 1899-12-31 09:15:00   112241 2.5        130          \n  Flow rate Part Teflon Thickness Strap IsDefective  \n1 34        A    20     25        1     Non-defective\n2 34        A    21     27        2     Non-defective\n3 34        A    22     25        3     Non-defective\n4 34        A    23     24        4     Non-defective\n5 34        A    24     18        5     Non-defective\n6 34        A    25     26        6     Non-defective",
            "text/latex": "\\begin{tabular}{r|llllllllllll}\n Date & Shift & Time & Operator & Experience & DyePercentage & Flow rate & Part & Teflon & Thickness & Strap & IsDefective\\\\\n\\hline\n\t 2017-11-01          & 16/24               & 1899-12-31 18:30:00 & 26000392            & 2.5                 & 106                 & 34                  & A                   & 20                  & 25                  & 1                   & Non-defective      \\\\\n\t 2017-11-02          & 08/16               & 1899-12-31 08:35:00 &   110485            &  NA                 & 102                 & 34                  & A                   & 21                  & 27                  & 2                   & Non-defective      \\\\\n\t 2017-11-02          & 16/24               & 1899-12-31 18:00:00 &   111891            & 3.0                 & 107                 & 34                  & A                   & 22                  & 25                  & 3                   & Non-defective      \\\\\n\t 2017-11-03          & 00/08               & 1899-12-31 02:30:00 &   709050            & 5.0                 & 110                 & 34                  & A                   & 23                  & 24                  & 4                   & Non-defective      \\\\\n\t 2017-11-03          & 08/16               & 1899-12-31 08:15:00 &   112241            & 2.5                 & 110                 & 34                  & A                   & 24                  & 18                  & 5                   & Non-defective      \\\\\n\t 2017-11-03          & 08/16               & 1899-12-31 09:15:00 &   112241            & 2.5                 & 130                 & 34                  & A                   & 25                  & 26                  & 6                   & Non-defective      \\\\\n\\end{tabular}\n",
            "text/markdown": "\n| Date | Shift | Time | Operator | Experience | DyePercentage | Flow rate | Part | Teflon | Thickness | Strap | IsDefective |\n|---|---|---|---|---|---|---|---|---|---|---|---|\n| 2017-11-01          | 16/24               | 1899-12-31 18:30:00 | 26000392            | 2.5                 | 106                 | 34                  | A                   | 20                  | 25                  | 1                   | Non-defective       |\n| 2017-11-02          | 08/16               | 1899-12-31 08:35:00 |   110485            |  NA                 | 102                 | 34                  | A                   | 21                  | 27                  | 2                   | Non-defective       |\n| 2017-11-02          | 16/24               | 1899-12-31 18:00:00 |   111891            | 3.0                 | 107                 | 34                  | A                   | 22                  | 25                  | 3                   | Non-defective       |\n| 2017-11-03          | 00/08               | 1899-12-31 02:30:00 |   709050            | 5.0                 | 110                 | 34                  | A                   | 23                  | 24                  | 4                   | Non-defective       |\n| 2017-11-03          | 08/16               | 1899-12-31 08:15:00 |   112241            | 2.5                 | 110                 | 34                  | A                   | 24                  | 18                  | 5                   | Non-defective       |\n| 2017-11-03          | 08/16               | 1899-12-31 09:15:00 |   112241            | 2.5                 | 130                 | 34                  | A                   | 25                  | 26                  | 6                   | Non-defective       |\n\n",
            "text/html": "<table>\n<thead><tr><th scope=col>Date</th><th scope=col>Shift</th><th scope=col>Time</th><th scope=col>Operator</th><th scope=col>Experience</th><th scope=col>DyePercentage</th><th scope=col>Flow rate</th><th scope=col>Part</th><th scope=col>Teflon</th><th scope=col>Thickness</th><th scope=col>Strap</th><th scope=col>IsDefective</th></tr></thead>\n<tbody>\n\t<tr><td>2017-11-01         </td><td>16/24              </td><td>1899-12-31 18:30:00</td><td>26000392           </td><td>2.5                </td><td>106                </td><td>34                 </td><td>A                  </td><td>20                 </td><td>25                 </td><td>1                  </td><td>Non-defective      </td></tr>\n\t<tr><td>2017-11-02         </td><td>08/16              </td><td>1899-12-31 08:35:00</td><td>  110485           </td><td> NA                </td><td>102                </td><td>34                 </td><td>A                  </td><td>21                 </td><td>27                 </td><td>2                  </td><td>Non-defective      </td></tr>\n\t<tr><td>2017-11-02         </td><td>16/24              </td><td>1899-12-31 18:00:00</td><td>  111891           </td><td>3.0                </td><td>107                </td><td>34                 </td><td>A                  </td><td>22                 </td><td>25                 </td><td>3                  </td><td>Non-defective      </td></tr>\n\t<tr><td>2017-11-03         </td><td>00/08              </td><td>1899-12-31 02:30:00</td><td>  709050           </td><td>5.0                </td><td>110                </td><td>34                 </td><td>A                  </td><td>23                 </td><td>24                 </td><td>4                  </td><td>Non-defective      </td></tr>\n\t<tr><td>2017-11-03         </td><td>08/16              </td><td>1899-12-31 08:15:00</td><td>  112241           </td><td>2.5                </td><td>110                </td><td>34                 </td><td>A                  </td><td>24                 </td><td>18                 </td><td>5                  </td><td>Non-defective      </td></tr>\n\t<tr><td>2017-11-03         </td><td>08/16              </td><td>1899-12-31 09:15:00</td><td>  112241           </td><td>2.5                </td><td>130                </td><td>34                 </td><td>A                  </td><td>25                 </td><td>26                 </td><td>6                  </td><td>Non-defective      </td></tr>\n</tbody>\n</table>\n"
          },
          "metadata": {}
        }
      ]
    },
    {
      "metadata": {
        "trusted": true
      },
      "cell_type": "code",
      "source": "experience <- data[[\"Experience\"]]\nflow_rate <- data[[\"Flow rate\"]]\npart <- data[[\"Part\"]]\nshift <- data[[\"Shift\"]]\ndate <- data[[\"Date\"]]\ntime <- data[[\"Time\"]]\nis_defective <- data[[\"IsDefective\"]]",
      "execution_count": 119,
      "outputs": []
    },
    {
      "metadata": {
        "trusted": true
      },
      "cell_type": "code",
      "source": "flow_rate",
      "execution_count": 7,
      "outputs": [
        {
          "output_type": "display_data",
          "data": {
            "text/plain": "  [1] 34 34 34 34 34 34 34 34 34 34 34 34 34 34 33 34 34 34 34 34 34 34 34 34 34\n [26] 34 34 34 34 34 34 34 34 34 34 34 34 34 34 34 34 34 34 33 34 34 34 34 34 34\n [51] 34 34 34 34 34 34 34 34 30 30 30 30 30 30 30 30 30 47 47 47 47 47 47 47 47\n [76] 47 47 47 47 47 47 47 47 47 47 47 47 47 47 47 47 47 43 43 47 47 47 47 47 47\n[101] 47 47 47 47 47 47 47 47 53 53 47 57 47 47 47 47 47 47 47 45 45 45 45 45 47\n[126] 47 47 47 47 47 47 47 47 47 53 53 53 53 53 53 53 53 53 53 53 53 53 53 53 53\n[151] 53 53 53 53 53 53 53 53 53 53 53 53 53 53 53 53 53 53 53 53 53 53 53 53 53\n[176] 53 53 53 53 53 53 53 53 53 53 53 53 53 53 53 53 53 53 53 53 53 53 53 53 53\n[201] 53 30 30 34 34 34 34 34 34 34 34 34 34 34 34 34 34 34 34 34 34 34 34 34 34\n[226] 34 34 34 34 34 34 34 34 34 34 34 34 34 34 34 34 34 34 47 47 47 47 47 47 47\n[251] 47 47 47 47 47 47 47 47 47 47 47 47 47 47 47 47 47 47 47 47 47 47 47 47 47\n[276] 47 47 47 47 47 47 47 47 47 47 53 53 56 56 56 56 56 56 56 56 56 56 56 56 56\n[301] 56 56 56 56 56 56 56 56 49 49 49 49 49 49 49 49 49 49 49 49 49 49 49 49 49\n[326] 49 49",
            "text/latex": "\\begin{enumerate*}\n\\item 34\n\\item 34\n\\item 34\n\\item 34\n\\item 34\n\\item 34\n\\item 34\n\\item 34\n\\item 34\n\\item 34\n\\item 34\n\\item 34\n\\item 34\n\\item 34\n\\item 33\n\\item 34\n\\item 34\n\\item 34\n\\item 34\n\\item 34\n\\item 34\n\\item 34\n\\item 34\n\\item 34\n\\item 34\n\\item 34\n\\item 34\n\\item 34\n\\item 34\n\\item 34\n\\item 34\n\\item 34\n\\item 34\n\\item 34\n\\item 34\n\\item 34\n\\item 34\n\\item 34\n\\item 34\n\\item 34\n\\item 34\n\\item 34\n\\item 34\n\\item 33\n\\item 34\n\\item 34\n\\item 34\n\\item 34\n\\item 34\n\\item 34\n\\item 34\n\\item 34\n\\item 34\n\\item 34\n\\item 34\n\\item 34\n\\item 34\n\\item 34\n\\item 30\n\\item 30\n\\item 30\n\\item 30\n\\item 30\n\\item 30\n\\item 30\n\\item 30\n\\item 30\n\\item 47\n\\item 47\n\\item 47\n\\item 47\n\\item 47\n\\item 47\n\\item 47\n\\item 47\n\\item 47\n\\item 47\n\\item 47\n\\item 47\n\\item 47\n\\item 47\n\\item 47\n\\item 47\n\\item 47\n\\item 47\n\\item 47\n\\item 47\n\\item 47\n\\item 47\n\\item 47\n\\item 47\n\\item 47\n\\item 43\n\\item 43\n\\item 47\n\\item 47\n\\item 47\n\\item 47\n\\item 47\n\\item 47\n\\item 47\n\\item 47\n\\item 47\n\\item 47\n\\item 47\n\\item 47\n\\item 47\n\\item 47\n\\item 53\n\\item 53\n\\item 47\n\\item 57\n\\item 47\n\\item 47\n\\item 47\n\\item 47\n\\item 47\n\\item 47\n\\item 47\n\\item 45\n\\item 45\n\\item 45\n\\item 45\n\\item 45\n\\item 47\n\\item 47\n\\item 47\n\\item 47\n\\item 47\n\\item 47\n\\item 47\n\\item 47\n\\item 47\n\\item 47\n\\item 53\n\\item 53\n\\item 53\n\\item 53\n\\item 53\n\\item 53\n\\item 53\n\\item 53\n\\item 53\n\\item 53\n\\item 53\n\\item 53\n\\item 53\n\\item 53\n\\item 53\n\\item 53\n\\item 53\n\\item 53\n\\item 53\n\\item 53\n\\item 53\n\\item 53\n\\item 53\n\\item 53\n\\item 53\n\\item 53\n\\item 53\n\\item 53\n\\item 53\n\\item 53\n\\item 53\n\\item 53\n\\item 53\n\\item 53\n\\item 53\n\\item 53\n\\item 53\n\\item 53\n\\item 53\n\\item 53\n\\item 53\n\\item 53\n\\item 53\n\\item 53\n\\item 53\n\\item 53\n\\item 53\n\\item 53\n\\item 53\n\\item 53\n\\item 53\n\\item 53\n\\item 53\n\\item 53\n\\item 53\n\\item 53\n\\item 53\n\\item 53\n\\item 53\n\\item 53\n\\item 53\n\\item 53\n\\item 53\n\\item 53\n\\item 53\n\\item 53\n\\item 53\n\\item 30\n\\item 30\n\\item 34\n\\item 34\n\\item 34\n\\item 34\n\\item 34\n\\item 34\n\\item 34\n\\item 34\n\\item 34\n\\item 34\n\\item 34\n\\item 34\n\\item 34\n\\item 34\n\\item 34\n\\item 34\n\\item 34\n\\item 34\n\\item 34\n\\item 34\n\\item 34\n\\item 34\n\\item 34\n\\item 34\n\\item 34\n\\item 34\n\\item 34\n\\item 34\n\\item 34\n\\item 34\n\\item 34\n\\item 34\n\\item 34\n\\item 34\n\\item 34\n\\item 34\n\\item 34\n\\item 34\n\\item 34\n\\item 34\n\\item 47\n\\item 47\n\\item 47\n\\item 47\n\\item 47\n\\item 47\n\\item 47\n\\item 47\n\\item 47\n\\item 47\n\\item 47\n\\item 47\n\\item 47\n\\item 47\n\\item 47\n\\item 47\n\\item 47\n\\item 47\n\\item 47\n\\item 47\n\\item 47\n\\item 47\n\\item 47\n\\item 47\n\\item 47\n\\item 47\n\\item 47\n\\item 47\n\\item 47\n\\item 47\n\\item 47\n\\item 47\n\\item 47\n\\item 47\n\\item 47\n\\item 47\n\\item 47\n\\item 47\n\\item 47\n\\item 47\n\\item 47\n\\item 47\n\\item 53\n\\item 53\n\\item 56\n\\item 56\n\\item 56\n\\item 56\n\\item 56\n\\item 56\n\\item 56\n\\item 56\n\\item 56\n\\item 56\n\\item 56\n\\item 56\n\\item 56\n\\item 56\n\\item 56\n\\item 56\n\\item 56\n\\item 56\n\\item 56\n\\item 56\n\\item 56\n\\item 49\n\\item 49\n\\item 49\n\\item 49\n\\item 49\n\\item 49\n\\item 49\n\\item 49\n\\item 49\n\\item 49\n\\item 49\n\\item 49\n\\item 49\n\\item 49\n\\item 49\n\\item 49\n\\item 49\n\\item 49\n\\item 49\n\\end{enumerate*}\n",
            "text/markdown": "1. 34\n2. 34\n3. 34\n4. 34\n5. 34\n6. 34\n7. 34\n8. 34\n9. 34\n10. 34\n11. 34\n12. 34\n13. 34\n14. 34\n15. 33\n16. 34\n17. 34\n18. 34\n19. 34\n20. 34\n21. 34\n22. 34\n23. 34\n24. 34\n25. 34\n26. 34\n27. 34\n28. 34\n29. 34\n30. 34\n31. 34\n32. 34\n33. 34\n34. 34\n35. 34\n36. 34\n37. 34\n38. 34\n39. 34\n40. 34\n41. 34\n42. 34\n43. 34\n44. 33\n45. 34\n46. 34\n47. 34\n48. 34\n49. 34\n50. 34\n51. 34\n52. 34\n53. 34\n54. 34\n55. 34\n56. 34\n57. 34\n58. 34\n59. 30\n60. 30\n61. 30\n62. 30\n63. 30\n64. 30\n65. 30\n66. 30\n67. 30\n68. 47\n69. 47\n70. 47\n71. 47\n72. 47\n73. 47\n74. 47\n75. 47\n76. 47\n77. 47\n78. 47\n79. 47\n80. 47\n81. 47\n82. 47\n83. 47\n84. 47\n85. 47\n86. 47\n87. 47\n88. 47\n89. 47\n90. 47\n91. 47\n92. 47\n93. 43\n94. 43\n95. 47\n96. 47\n97. 47\n98. 47\n99. 47\n100. 47\n101. 47\n102. 47\n103. 47\n104. 47\n105. 47\n106. 47\n107. 47\n108. 47\n109. 53\n110. 53\n111. 47\n112. 57\n113. 47\n114. 47\n115. 47\n116. 47\n117. 47\n118. 47\n119. 47\n120. 45\n121. 45\n122. 45\n123. 45\n124. 45\n125. 47\n126. 47\n127. 47\n128. 47\n129. 47\n130. 47\n131. 47\n132. 47\n133. 47\n134. 47\n135. 53\n136. 53\n137. 53\n138. 53\n139. 53\n140. 53\n141. 53\n142. 53\n143. 53\n144. 53\n145. 53\n146. 53\n147. 53\n148. 53\n149. 53\n150. 53\n151. 53\n152. 53\n153. 53\n154. 53\n155. 53\n156. 53\n157. 53\n158. 53\n159. 53\n160. 53\n161. 53\n162. 53\n163. 53\n164. 53\n165. 53\n166. 53\n167. 53\n168. 53\n169. 53\n170. 53\n171. 53\n172. 53\n173. 53\n174. 53\n175. 53\n176. 53\n177. 53\n178. 53\n179. 53\n180. 53\n181. 53\n182. 53\n183. 53\n184. 53\n185. 53\n186. 53\n187. 53\n188. 53\n189. 53\n190. 53\n191. 53\n192. 53\n193. 53\n194. 53\n195. 53\n196. 53\n197. 53\n198. 53\n199. 53\n200. 53\n201. 53\n202. 30\n203. 30\n204. 34\n205. 34\n206. 34\n207. 34\n208. 34\n209. 34\n210. 34\n211. 34\n212. 34\n213. 34\n214. 34\n215. 34\n216. 34\n217. 34\n218. 34\n219. 34\n220. 34\n221. 34\n222. 34\n223. 34\n224. 34\n225. 34\n226. 34\n227. 34\n228. 34\n229. 34\n230. 34\n231. 34\n232. 34\n233. 34\n234. 34\n235. 34\n236. 34\n237. 34\n238. 34\n239. 34\n240. 34\n241. 34\n242. 34\n243. 34\n244. 47\n245. 47\n246. 47\n247. 47\n248. 47\n249. 47\n250. 47\n251. 47\n252. 47\n253. 47\n254. 47\n255. 47\n256. 47\n257. 47\n258. 47\n259. 47\n260. 47\n261. 47\n262. 47\n263. 47\n264. 47\n265. 47\n266. 47\n267. 47\n268. 47\n269. 47\n270. 47\n271. 47\n272. 47\n273. 47\n274. 47\n275. 47\n276. 47\n277. 47\n278. 47\n279. 47\n280. 47\n281. 47\n282. 47\n283. 47\n284. 47\n285. 47\n286. 53\n287. 53\n288. 56\n289. 56\n290. 56\n291. 56\n292. 56\n293. 56\n294. 56\n295. 56\n296. 56\n297. 56\n298. 56\n299. 56\n300. 56\n301. 56\n302. 56\n303. 56\n304. 56\n305. 56\n306. 56\n307. 56\n308. 56\n309. 49\n310. 49\n311. 49\n312. 49\n313. 49\n314. 49\n315. 49\n316. 49\n317. 49\n318. 49\n319. 49\n320. 49\n321. 49\n322. 49\n323. 49\n324. 49\n325. 49\n326. 49\n327. 49\n\n\n",
            "text/html": "<ol class=list-inline>\n\t<li>34</li>\n\t<li>34</li>\n\t<li>34</li>\n\t<li>34</li>\n\t<li>34</li>\n\t<li>34</li>\n\t<li>34</li>\n\t<li>34</li>\n\t<li>34</li>\n\t<li>34</li>\n\t<li>34</li>\n\t<li>34</li>\n\t<li>34</li>\n\t<li>34</li>\n\t<li>33</li>\n\t<li>34</li>\n\t<li>34</li>\n\t<li>34</li>\n\t<li>34</li>\n\t<li>34</li>\n\t<li>34</li>\n\t<li>34</li>\n\t<li>34</li>\n\t<li>34</li>\n\t<li>34</li>\n\t<li>34</li>\n\t<li>34</li>\n\t<li>34</li>\n\t<li>34</li>\n\t<li>34</li>\n\t<li>34</li>\n\t<li>34</li>\n\t<li>34</li>\n\t<li>34</li>\n\t<li>34</li>\n\t<li>34</li>\n\t<li>34</li>\n\t<li>34</li>\n\t<li>34</li>\n\t<li>34</li>\n\t<li>34</li>\n\t<li>34</li>\n\t<li>34</li>\n\t<li>33</li>\n\t<li>34</li>\n\t<li>34</li>\n\t<li>34</li>\n\t<li>34</li>\n\t<li>34</li>\n\t<li>34</li>\n\t<li>34</li>\n\t<li>34</li>\n\t<li>34</li>\n\t<li>34</li>\n\t<li>34</li>\n\t<li>34</li>\n\t<li>34</li>\n\t<li>34</li>\n\t<li>30</li>\n\t<li>30</li>\n\t<li>30</li>\n\t<li>30</li>\n\t<li>30</li>\n\t<li>30</li>\n\t<li>30</li>\n\t<li>30</li>\n\t<li>30</li>\n\t<li>47</li>\n\t<li>47</li>\n\t<li>47</li>\n\t<li>47</li>\n\t<li>47</li>\n\t<li>47</li>\n\t<li>47</li>\n\t<li>47</li>\n\t<li>47</li>\n\t<li>47</li>\n\t<li>47</li>\n\t<li>47</li>\n\t<li>47</li>\n\t<li>47</li>\n\t<li>47</li>\n\t<li>47</li>\n\t<li>47</li>\n\t<li>47</li>\n\t<li>47</li>\n\t<li>47</li>\n\t<li>47</li>\n\t<li>47</li>\n\t<li>47</li>\n\t<li>47</li>\n\t<li>47</li>\n\t<li>43</li>\n\t<li>43</li>\n\t<li>47</li>\n\t<li>47</li>\n\t<li>47</li>\n\t<li>47</li>\n\t<li>47</li>\n\t<li>47</li>\n\t<li>47</li>\n\t<li>47</li>\n\t<li>47</li>\n\t<li>47</li>\n\t<li>47</li>\n\t<li>47</li>\n\t<li>47</li>\n\t<li>47</li>\n\t<li>53</li>\n\t<li>53</li>\n\t<li>47</li>\n\t<li>57</li>\n\t<li>47</li>\n\t<li>47</li>\n\t<li>47</li>\n\t<li>47</li>\n\t<li>47</li>\n\t<li>47</li>\n\t<li>47</li>\n\t<li>45</li>\n\t<li>45</li>\n\t<li>45</li>\n\t<li>45</li>\n\t<li>45</li>\n\t<li>47</li>\n\t<li>47</li>\n\t<li>47</li>\n\t<li>47</li>\n\t<li>47</li>\n\t<li>47</li>\n\t<li>47</li>\n\t<li>47</li>\n\t<li>47</li>\n\t<li>47</li>\n\t<li>53</li>\n\t<li>53</li>\n\t<li>53</li>\n\t<li>53</li>\n\t<li>53</li>\n\t<li>53</li>\n\t<li>53</li>\n\t<li>53</li>\n\t<li>53</li>\n\t<li>53</li>\n\t<li>53</li>\n\t<li>53</li>\n\t<li>53</li>\n\t<li>53</li>\n\t<li>53</li>\n\t<li>53</li>\n\t<li>53</li>\n\t<li>53</li>\n\t<li>53</li>\n\t<li>53</li>\n\t<li>53</li>\n\t<li>53</li>\n\t<li>53</li>\n\t<li>53</li>\n\t<li>53</li>\n\t<li>53</li>\n\t<li>53</li>\n\t<li>53</li>\n\t<li>53</li>\n\t<li>53</li>\n\t<li>53</li>\n\t<li>53</li>\n\t<li>53</li>\n\t<li>53</li>\n\t<li>53</li>\n\t<li>53</li>\n\t<li>53</li>\n\t<li>53</li>\n\t<li>53</li>\n\t<li>53</li>\n\t<li>53</li>\n\t<li>53</li>\n\t<li>53</li>\n\t<li>53</li>\n\t<li>53</li>\n\t<li>53</li>\n\t<li>53</li>\n\t<li>53</li>\n\t<li>53</li>\n\t<li>53</li>\n\t<li>53</li>\n\t<li>53</li>\n\t<li>53</li>\n\t<li>53</li>\n\t<li>53</li>\n\t<li>53</li>\n\t<li>53</li>\n\t<li>53</li>\n\t<li>53</li>\n\t<li>53</li>\n\t<li>53</li>\n\t<li>53</li>\n\t<li>53</li>\n\t<li>53</li>\n\t<li>53</li>\n\t<li>53</li>\n\t<li>53</li>\n\t<li>30</li>\n\t<li>30</li>\n\t<li>34</li>\n\t<li>34</li>\n\t<li>34</li>\n\t<li>34</li>\n\t<li>34</li>\n\t<li>34</li>\n\t<li>34</li>\n\t<li>34</li>\n\t<li>34</li>\n\t<li>34</li>\n\t<li>34</li>\n\t<li>34</li>\n\t<li>34</li>\n\t<li>34</li>\n\t<li>34</li>\n\t<li>34</li>\n\t<li>34</li>\n\t<li>34</li>\n\t<li>34</li>\n\t<li>34</li>\n\t<li>34</li>\n\t<li>34</li>\n\t<li>34</li>\n\t<li>34</li>\n\t<li>34</li>\n\t<li>34</li>\n\t<li>34</li>\n\t<li>34</li>\n\t<li>34</li>\n\t<li>34</li>\n\t<li>34</li>\n\t<li>34</li>\n\t<li>34</li>\n\t<li>34</li>\n\t<li>34</li>\n\t<li>34</li>\n\t<li>34</li>\n\t<li>34</li>\n\t<li>34</li>\n\t<li>34</li>\n\t<li>47</li>\n\t<li>47</li>\n\t<li>47</li>\n\t<li>47</li>\n\t<li>47</li>\n\t<li>47</li>\n\t<li>47</li>\n\t<li>47</li>\n\t<li>47</li>\n\t<li>47</li>\n\t<li>47</li>\n\t<li>47</li>\n\t<li>47</li>\n\t<li>47</li>\n\t<li>47</li>\n\t<li>47</li>\n\t<li>47</li>\n\t<li>47</li>\n\t<li>47</li>\n\t<li>47</li>\n\t<li>47</li>\n\t<li>47</li>\n\t<li>47</li>\n\t<li>47</li>\n\t<li>47</li>\n\t<li>47</li>\n\t<li>47</li>\n\t<li>47</li>\n\t<li>47</li>\n\t<li>47</li>\n\t<li>47</li>\n\t<li>47</li>\n\t<li>47</li>\n\t<li>47</li>\n\t<li>47</li>\n\t<li>47</li>\n\t<li>47</li>\n\t<li>47</li>\n\t<li>47</li>\n\t<li>47</li>\n\t<li>47</li>\n\t<li>47</li>\n\t<li>53</li>\n\t<li>53</li>\n\t<li>56</li>\n\t<li>56</li>\n\t<li>56</li>\n\t<li>56</li>\n\t<li>56</li>\n\t<li>56</li>\n\t<li>56</li>\n\t<li>56</li>\n\t<li>56</li>\n\t<li>56</li>\n\t<li>56</li>\n\t<li>56</li>\n\t<li>56</li>\n\t<li>56</li>\n\t<li>56</li>\n\t<li>56</li>\n\t<li>56</li>\n\t<li>56</li>\n\t<li>56</li>\n\t<li>56</li>\n\t<li>56</li>\n\t<li>49</li>\n\t<li>49</li>\n\t<li>49</li>\n\t<li>49</li>\n\t<li>49</li>\n\t<li>49</li>\n\t<li>49</li>\n\t<li>49</li>\n\t<li>49</li>\n\t<li>49</li>\n\t<li>49</li>\n\t<li>49</li>\n\t<li>49</li>\n\t<li>49</li>\n\t<li>49</li>\n\t<li>49</li>\n\t<li>49</li>\n\t<li>49</li>\n\t<li>49</li>\n</ol>\n"
          },
          "metadata": {}
        }
      ]
    },
    {
      "metadata": {},
      "cell_type": "markdown",
      "source": "#### Label Encoding\n\nLabel encoding was applied to columns(part, shift, date, time, is_detective, experience) which have categorical data. "
    },
    {
      "metadata": {
        "trusted": true
      },
      "cell_type": "code",
      "source": "factor_fr <- factor(flow_rate)\nfactor_part <- factor(part)\nfactor_shift <- factor(shift)\nfactor_date <- factor(date)\nfactor_time <- factor(time)\nfactor_isdefective <- factor(is_defective)\nfactor_exp <- factor(experience)\n\nflow_rate <- as.numeric(factor_fr)\npart <- as.numeric(factor_part)\nshift <- as.numeric(factor_shift)\ndate <- as.numeric(factor_date)\ntime <- as.numeric(factor_time)\nis_defective <- as.numeric(factor_isdefective)\nexperience <- as.numeric(factor_exp)",
      "execution_count": 120,
      "outputs": []
    },
    {
      "metadata": {
        "trusted": true
      },
      "cell_type": "code",
      "source": "data[[\"Flow rate\"]] <- flow_rate\ndata[[\"Part\"]] <- part\ndata[[\"Shift\"]] <- shift\ndata[[\"Date\"]] <- date\ndata[[\"Time\"]] <- time\ndata[[\"IsDefective\"]] <- is_defective\ndata[[\"Experience\"]] <- experience",
      "execution_count": 121,
      "outputs": []
    },
    {
      "metadata": {},
      "cell_type": "markdown",
      "source": ""
    },
    {
      "metadata": {
        "trusted": true
      },
      "cell_type": "code",
      "source": "data",
      "execution_count": 122,
      "outputs": [
        {
          "output_type": "display_data",
          "data": {
            "text/plain": "    Date Shift Time Operator Experience DyePercentage Flow rate Part Teflon\n1    1   3     50   26000392  1         106           3         1    20    \n2    2   2     20     110485 NA         102           3         1    21    \n3    2   3     48     111891  2         107           3         1    22    \n4    3   1     11     709050  4         110           3         1    23    \n5    3   2     19     112241  1         110           3         1    24    \n6    3   2     24     112241  1         130           3         1    25    \n7    3   2     37     110485 NA         129           3         1    26    \n8    3   3     44     111891  2         124           3         1    27    \n9    4   3     44   26000392  1         130           3         1    28    \n10   5   2     31     111891  2         132           3         1    29    \n11   5   3     56   26000492  1         132           3         1    30    \n12   6   1      6   26009507  1         132           3         1    31    \n13   6   2     34     110485 NA         132           3         1    32    \n14   7   3     42     709050  4          52           3         1     0    \n15   8   1      7     112241  1          52           2         1     1    \n16   8   2     24     111891  2          50           3         1     2    \n17   9   2     26     110485 NA          58           3         1     3    \n18   9   3     54   26000492  1          68           3         1     4    \n19  10   3     43   26000492  1          73           3         1     5    \n20  11   1      1     111891  2          76           3         1     6    \n21  11   2     27   26000492  1          71           3         1     7    \n22  11   3     42     112241  1          71           3         1     8    \n23  12   1     12   26000392  1          63           3         1     9    \n24  12   2     38   26000492  1          71           3         1    10    \n25  13   1     12     111891  2          71           3         1    11    \n26  13   2     21   26000492  1          72           3         1    12    \n27  13   3     45   26000492  1          74           3         1    13    \n28  14   1      2   26000392  1          77           3         1    14    \n29  14   2     22     110485 NA          82           3         1    15    \n30  15   1      5   26000392  1          77           3         1    16    \n... ...  ...   ...  ...      ...        ...           ...       ...  ...   \n298 40   3     51   26000492 1           75           9         2    13    \n299 41   2     33   26000392 1           75           9         2    14    \n300 41   3     41   26000492 1           75           9         2    15    \n301 42   2     29     111891 2           90           9         2    16    \n302 42   3     46   26000492 1           90           9         2    17    \n303 43   2     31   26000392 1           85           9         2    18    \n304 43   3     61   26000492 1           88           9         2    19    \n305 44   2     25     111891 2           90           9         2    20    \n306 44   3     62   26000492 1           92           9         2    21    \n307 45   2     25     111891 2           97           9         2    22    \n308 45   3     47   26000492 1           97           9         2    23    \n309 46   1     13   26000492 1           59           7         2     1    \n310 46   3     52     111891 2           59           7         2     2    \n311 47   3     50   26000392 1           68           7         2     3    \n312 48   3     49   26000492 1           74           7         2     4    \n313 49   2     33     111891 2           69           7         2     5    \n314 49   3     63   26000492 1           72           7         2     6    \n315 50   2     25     111891 2           79           7         2     7    \n316 50   3     57   26000492 1           75           7         2     8    \n317 51   2     33     111891 2           79           7         2     9    \n318 51   3     59   26000492 1           78           7         2    10    \n319 52   2     31     111891 2           99           7         2    11    \n320 53   3     63   26000492 1           97           7         2    12    \n321 54   2     28   26000492 1          105           7         2    13    \n322 55   2     38   26000492 1          110           7         2    14    \n323 56   2     36   26000492 1          109           7         2    15    \n324 57   1     12      11189 2          120           7         2    16    \n325 57   2     37   26000492 1          118           7         2    17    \n326 58   1     17   26000492 1           59           7         2     1    \n327 59   1     16   26000492 1           71           7         2     2    \n    Thickness Strap IsDefective\n1   25         1    2          \n2   27         2    2          \n3   25         3    2          \n4   24         4    2          \n5   18         5    2          \n6   26         6    2          \n7   26         7    2          \n8   22         8    2          \n9   25         9    2          \n10  20        10    2          \n11  25        11    2          \n12  23        12    2          \n13  23        13    2          \n14  26        14    2          \n15  25        15    2          \n16  25        16    2          \n17  30        17    1          \n18  26        18    2          \n19  39        19    1          \n20  29        20    1          \n21  24        21    2          \n22  25        22    2          \n23  27        23    2          \n24  30        24    1          \n25  28        25    1          \n26  28        26    1          \n27  29        27    1          \n28  23        28    2          \n29  25        29    2          \n30  24        30    2          \n... ...       ...   ...        \n298 24         80   2          \n299 24         81   2          \n300 30         82   1          \n301 29         83   1          \n302 26         84   2          \n303 25         85   2          \n304 25         86   2          \n305 25         87   2          \n306 25         88   2          \n307 25         89   2          \n308 25         90   2          \n309 25         91   2          \n310 27         92   2          \n311 25         93   2          \n312 28         94   1          \n313 25         95   2          \n314 18         96   1          \n315 23         97   2          \n316 23         98   2          \n317 23         99   2          \n318 21        100   2          \n319 25        101   2          \n320 27        102   2          \n321 29        103   1          \n322 26        104   2          \n323 30        105   1          \n324 26        106   2          \n325 26        107   2          \n326 26        108   2          \n327 25        109   2          ",
            "text/latex": "\\begin{tabular}{r|llllllllllll}\n Date & Shift & Time & Operator & Experience & DyePercentage & Flow rate & Part & Teflon & Thickness & Strap & IsDefective\\\\\n\\hline\n\t  1       & 3        & 50       & 26000392 &  1       & 106      & 3        & 1        & 20       & 25       &  1       & 2       \\\\\n\t  2       & 2        & 20       &   110485 & NA       & 102      & 3        & 1        & 21       & 27       &  2       & 2       \\\\\n\t  2       & 3        & 48       &   111891 &  2       & 107      & 3        & 1        & 22       & 25       &  3       & 2       \\\\\n\t  3       & 1        & 11       &   709050 &  4       & 110      & 3        & 1        & 23       & 24       &  4       & 2       \\\\\n\t  3       & 2        & 19       &   112241 &  1       & 110      & 3        & 1        & 24       & 18       &  5       & 2       \\\\\n\t  3       & 2        & 24       &   112241 &  1       & 130      & 3        & 1        & 25       & 26       &  6       & 2       \\\\\n\t  3       & 2        & 37       &   110485 & NA       & 129      & 3        & 1        & 26       & 26       &  7       & 2       \\\\\n\t  3       & 3        & 44       &   111891 &  2       & 124      & 3        & 1        & 27       & 22       &  8       & 2       \\\\\n\t  4       & 3        & 44       & 26000392 &  1       & 130      & 3        & 1        & 28       & 25       &  9       & 2       \\\\\n\t  5       & 2        & 31       &   111891 &  2       & 132      & 3        & 1        & 29       & 20       & 10       & 2       \\\\\n\t  5       & 3        & 56       & 26000492 &  1       & 132      & 3        & 1        & 30       & 25       & 11       & 2       \\\\\n\t  6       & 1        &  6       & 26009507 &  1       & 132      & 3        & 1        & 31       & 23       & 12       & 2       \\\\\n\t  6       & 2        & 34       &   110485 & NA       & 132      & 3        & 1        & 32       & 23       & 13       & 2       \\\\\n\t  7       & 3        & 42       &   709050 &  4       &  52      & 3        & 1        &  0       & 26       & 14       & 2       \\\\\n\t  8       & 1        &  7       &   112241 &  1       &  52      & 2        & 1        &  1       & 25       & 15       & 2       \\\\\n\t  8       & 2        & 24       &   111891 &  2       &  50      & 3        & 1        &  2       & 25       & 16       & 2       \\\\\n\t  9       & 2        & 26       &   110485 & NA       &  58      & 3        & 1        &  3       & 30       & 17       & 1       \\\\\n\t  9       & 3        & 54       & 26000492 &  1       &  68      & 3        & 1        &  4       & 26       & 18       & 2       \\\\\n\t 10       & 3        & 43       & 26000492 &  1       &  73      & 3        & 1        &  5       & 39       & 19       & 1       \\\\\n\t 11       & 1        &  1       &   111891 &  2       &  76      & 3        & 1        &  6       & 29       & 20       & 1       \\\\\n\t 11       & 2        & 27       & 26000492 &  1       &  71      & 3        & 1        &  7       & 24       & 21       & 2       \\\\\n\t 11       & 3        & 42       &   112241 &  1       &  71      & 3        & 1        &  8       & 25       & 22       & 2       \\\\\n\t 12       & 1        & 12       & 26000392 &  1       &  63      & 3        & 1        &  9       & 27       & 23       & 2       \\\\\n\t 12       & 2        & 38       & 26000492 &  1       &  71      & 3        & 1        & 10       & 30       & 24       & 1       \\\\\n\t 13       & 1        & 12       &   111891 &  2       &  71      & 3        & 1        & 11       & 28       & 25       & 1       \\\\\n\t 13       & 2        & 21       & 26000492 &  1       &  72      & 3        & 1        & 12       & 28       & 26       & 1       \\\\\n\t 13       & 3        & 45       & 26000492 &  1       &  74      & 3        & 1        & 13       & 29       & 27       & 1       \\\\\n\t 14       & 1        &  2       & 26000392 &  1       &  77      & 3        & 1        & 14       & 23       & 28       & 2       \\\\\n\t 14       & 2        & 22       &   110485 & NA       &  82      & 3        & 1        & 15       & 25       & 29       & 2       \\\\\n\t 15       & 1        &  5       & 26000392 &  1       &  77      & 3        & 1        & 16       & 24       & 30       & 2       \\\\\n\t ... & ... & ... & ... & ... & ... & ... & ... & ... & ... & ... & ...\\\\\n\t 40       & 3        & 51       & 26000492 & 1        &  75      & 9        & 2        & 13       & 24       &  80      & 2       \\\\\n\t 41       & 2        & 33       & 26000392 & 1        &  75      & 9        & 2        & 14       & 24       &  81      & 2       \\\\\n\t 41       & 3        & 41       & 26000492 & 1        &  75      & 9        & 2        & 15       & 30       &  82      & 1       \\\\\n\t 42       & 2        & 29       &   111891 & 2        &  90      & 9        & 2        & 16       & 29       &  83      & 1       \\\\\n\t 42       & 3        & 46       & 26000492 & 1        &  90      & 9        & 2        & 17       & 26       &  84      & 2       \\\\\n\t 43       & 2        & 31       & 26000392 & 1        &  85      & 9        & 2        & 18       & 25       &  85      & 2       \\\\\n\t 43       & 3        & 61       & 26000492 & 1        &  88      & 9        & 2        & 19       & 25       &  86      & 2       \\\\\n\t 44       & 2        & 25       &   111891 & 2        &  90      & 9        & 2        & 20       & 25       &  87      & 2       \\\\\n\t 44       & 3        & 62       & 26000492 & 1        &  92      & 9        & 2        & 21       & 25       &  88      & 2       \\\\\n\t 45       & 2        & 25       &   111891 & 2        &  97      & 9        & 2        & 22       & 25       &  89      & 2       \\\\\n\t 45       & 3        & 47       & 26000492 & 1        &  97      & 9        & 2        & 23       & 25       &  90      & 2       \\\\\n\t 46       & 1        & 13       & 26000492 & 1        &  59      & 7        & 2        &  1       & 25       &  91      & 2       \\\\\n\t 46       & 3        & 52       &   111891 & 2        &  59      & 7        & 2        &  2       & 27       &  92      & 2       \\\\\n\t 47       & 3        & 50       & 26000392 & 1        &  68      & 7        & 2        &  3       & 25       &  93      & 2       \\\\\n\t 48       & 3        & 49       & 26000492 & 1        &  74      & 7        & 2        &  4       & 28       &  94      & 1       \\\\\n\t 49       & 2        & 33       &   111891 & 2        &  69      & 7        & 2        &  5       & 25       &  95      & 2       \\\\\n\t 49       & 3        & 63       & 26000492 & 1        &  72      & 7        & 2        &  6       & 18       &  96      & 1       \\\\\n\t 50       & 2        & 25       &   111891 & 2        &  79      & 7        & 2        &  7       & 23       &  97      & 2       \\\\\n\t 50       & 3        & 57       & 26000492 & 1        &  75      & 7        & 2        &  8       & 23       &  98      & 2       \\\\\n\t 51       & 2        & 33       &   111891 & 2        &  79      & 7        & 2        &  9       & 23       &  99      & 2       \\\\\n\t 51       & 3        & 59       & 26000492 & 1        &  78      & 7        & 2        & 10       & 21       & 100      & 2       \\\\\n\t 52       & 2        & 31       &   111891 & 2        &  99      & 7        & 2        & 11       & 25       & 101      & 2       \\\\\n\t 53       & 3        & 63       & 26000492 & 1        &  97      & 7        & 2        & 12       & 27       & 102      & 2       \\\\\n\t 54       & 2        & 28       & 26000492 & 1        & 105      & 7        & 2        & 13       & 29       & 103      & 1       \\\\\n\t 55       & 2        & 38       & 26000492 & 1        & 110      & 7        & 2        & 14       & 26       & 104      & 2       \\\\\n\t 56       & 2        & 36       & 26000492 & 1        & 109      & 7        & 2        & 15       & 30       & 105      & 1       \\\\\n\t 57       & 1        & 12       &    11189 & 2        & 120      & 7        & 2        & 16       & 26       & 106      & 2       \\\\\n\t 57       & 2        & 37       & 26000492 & 1        & 118      & 7        & 2        & 17       & 26       & 107      & 2       \\\\\n\t 58       & 1        & 17       & 26000492 & 1        &  59      & 7        & 2        &  1       & 26       & 108      & 2       \\\\\n\t 59       & 1        & 16       & 26000492 & 1        &  71      & 7        & 2        &  2       & 25       & 109      & 2       \\\\\n\\end{tabular}\n",
            "text/markdown": "\n| Date | Shift | Time | Operator | Experience | DyePercentage | Flow rate | Part | Teflon | Thickness | Strap | IsDefective |\n|---|---|---|---|---|---|---|---|---|---|---|---|\n|  1       | 3        | 50       | 26000392 |  1       | 106      | 3        | 1        | 20       | 25       |  1       | 2        |\n|  2       | 2        | 20       |   110485 | NA       | 102      | 3        | 1        | 21       | 27       |  2       | 2        |\n|  2       | 3        | 48       |   111891 |  2       | 107      | 3        | 1        | 22       | 25       |  3       | 2        |\n|  3       | 1        | 11       |   709050 |  4       | 110      | 3        | 1        | 23       | 24       |  4       | 2        |\n|  3       | 2        | 19       |   112241 |  1       | 110      | 3        | 1        | 24       | 18       |  5       | 2        |\n|  3       | 2        | 24       |   112241 |  1       | 130      | 3        | 1        | 25       | 26       |  6       | 2        |\n|  3       | 2        | 37       |   110485 | NA       | 129      | 3        | 1        | 26       | 26       |  7       | 2        |\n|  3       | 3        | 44       |   111891 |  2       | 124      | 3        | 1        | 27       | 22       |  8       | 2        |\n|  4       | 3        | 44       | 26000392 |  1       | 130      | 3        | 1        | 28       | 25       |  9       | 2        |\n|  5       | 2        | 31       |   111891 |  2       | 132      | 3        | 1        | 29       | 20       | 10       | 2        |\n|  5       | 3        | 56       | 26000492 |  1       | 132      | 3        | 1        | 30       | 25       | 11       | 2        |\n|  6       | 1        |  6       | 26009507 |  1       | 132      | 3        | 1        | 31       | 23       | 12       | 2        |\n|  6       | 2        | 34       |   110485 | NA       | 132      | 3        | 1        | 32       | 23       | 13       | 2        |\n|  7       | 3        | 42       |   709050 |  4       |  52      | 3        | 1        |  0       | 26       | 14       | 2        |\n|  8       | 1        |  7       |   112241 |  1       |  52      | 2        | 1        |  1       | 25       | 15       | 2        |\n|  8       | 2        | 24       |   111891 |  2       |  50      | 3        | 1        |  2       | 25       | 16       | 2        |\n|  9       | 2        | 26       |   110485 | NA       |  58      | 3        | 1        |  3       | 30       | 17       | 1        |\n|  9       | 3        | 54       | 26000492 |  1       |  68      | 3        | 1        |  4       | 26       | 18       | 2        |\n| 10       | 3        | 43       | 26000492 |  1       |  73      | 3        | 1        |  5       | 39       | 19       | 1        |\n| 11       | 1        |  1       |   111891 |  2       |  76      | 3        | 1        |  6       | 29       | 20       | 1        |\n| 11       | 2        | 27       | 26000492 |  1       |  71      | 3        | 1        |  7       | 24       | 21       | 2        |\n| 11       | 3        | 42       |   112241 |  1       |  71      | 3        | 1        |  8       | 25       | 22       | 2        |\n| 12       | 1        | 12       | 26000392 |  1       |  63      | 3        | 1        |  9       | 27       | 23       | 2        |\n| 12       | 2        | 38       | 26000492 |  1       |  71      | 3        | 1        | 10       | 30       | 24       | 1        |\n| 13       | 1        | 12       |   111891 |  2       |  71      | 3        | 1        | 11       | 28       | 25       | 1        |\n| 13       | 2        | 21       | 26000492 |  1       |  72      | 3        | 1        | 12       | 28       | 26       | 1        |\n| 13       | 3        | 45       | 26000492 |  1       |  74      | 3        | 1        | 13       | 29       | 27       | 1        |\n| 14       | 1        |  2       | 26000392 |  1       |  77      | 3        | 1        | 14       | 23       | 28       | 2        |\n| 14       | 2        | 22       |   110485 | NA       |  82      | 3        | 1        | 15       | 25       | 29       | 2        |\n| 15       | 1        |  5       | 26000392 |  1       |  77      | 3        | 1        | 16       | 24       | 30       | 2        |\n| ... | ... | ... | ... | ... | ... | ... | ... | ... | ... | ... | ... |\n| 40       | 3        | 51       | 26000492 | 1        |  75      | 9        | 2        | 13       | 24       |  80      | 2        |\n| 41       | 2        | 33       | 26000392 | 1        |  75      | 9        | 2        | 14       | 24       |  81      | 2        |\n| 41       | 3        | 41       | 26000492 | 1        |  75      | 9        | 2        | 15       | 30       |  82      | 1        |\n| 42       | 2        | 29       |   111891 | 2        |  90      | 9        | 2        | 16       | 29       |  83      | 1        |\n| 42       | 3        | 46       | 26000492 | 1        |  90      | 9        | 2        | 17       | 26       |  84      | 2        |\n| 43       | 2        | 31       | 26000392 | 1        |  85      | 9        | 2        | 18       | 25       |  85      | 2        |\n| 43       | 3        | 61       | 26000492 | 1        |  88      | 9        | 2        | 19       | 25       |  86      | 2        |\n| 44       | 2        | 25       |   111891 | 2        |  90      | 9        | 2        | 20       | 25       |  87      | 2        |\n| 44       | 3        | 62       | 26000492 | 1        |  92      | 9        | 2        | 21       | 25       |  88      | 2        |\n| 45       | 2        | 25       |   111891 | 2        |  97      | 9        | 2        | 22       | 25       |  89      | 2        |\n| 45       | 3        | 47       | 26000492 | 1        |  97      | 9        | 2        | 23       | 25       |  90      | 2        |\n| 46       | 1        | 13       | 26000492 | 1        |  59      | 7        | 2        |  1       | 25       |  91      | 2        |\n| 46       | 3        | 52       |   111891 | 2        |  59      | 7        | 2        |  2       | 27       |  92      | 2        |\n| 47       | 3        | 50       | 26000392 | 1        |  68      | 7        | 2        |  3       | 25       |  93      | 2        |\n| 48       | 3        | 49       | 26000492 | 1        |  74      | 7        | 2        |  4       | 28       |  94      | 1        |\n| 49       | 2        | 33       |   111891 | 2        |  69      | 7        | 2        |  5       | 25       |  95      | 2        |\n| 49       | 3        | 63       | 26000492 | 1        |  72      | 7        | 2        |  6       | 18       |  96      | 1        |\n| 50       | 2        | 25       |   111891 | 2        |  79      | 7        | 2        |  7       | 23       |  97      | 2        |\n| 50       | 3        | 57       | 26000492 | 1        |  75      | 7        | 2        |  8       | 23       |  98      | 2        |\n| 51       | 2        | 33       |   111891 | 2        |  79      | 7        | 2        |  9       | 23       |  99      | 2        |\n| 51       | 3        | 59       | 26000492 | 1        |  78      | 7        | 2        | 10       | 21       | 100      | 2        |\n| 52       | 2        | 31       |   111891 | 2        |  99      | 7        | 2        | 11       | 25       | 101      | 2        |\n| 53       | 3        | 63       | 26000492 | 1        |  97      | 7        | 2        | 12       | 27       | 102      | 2        |\n| 54       | 2        | 28       | 26000492 | 1        | 105      | 7        | 2        | 13       | 29       | 103      | 1        |\n| 55       | 2        | 38       | 26000492 | 1        | 110      | 7        | 2        | 14       | 26       | 104      | 2        |\n| 56       | 2        | 36       | 26000492 | 1        | 109      | 7        | 2        | 15       | 30       | 105      | 1        |\n| 57       | 1        | 12       |    11189 | 2        | 120      | 7        | 2        | 16       | 26       | 106      | 2        |\n| 57       | 2        | 37       | 26000492 | 1        | 118      | 7        | 2        | 17       | 26       | 107      | 2        |\n| 58       | 1        | 17       | 26000492 | 1        |  59      | 7        | 2        |  1       | 26       | 108      | 2        |\n| 59       | 1        | 16       | 26000492 | 1        |  71      | 7        | 2        |  2       | 25       | 109      | 2        |\n\n",
            "text/html": "<table>\n<thead><tr><th scope=col>Date</th><th scope=col>Shift</th><th scope=col>Time</th><th scope=col>Operator</th><th scope=col>Experience</th><th scope=col>DyePercentage</th><th scope=col>Flow rate</th><th scope=col>Part</th><th scope=col>Teflon</th><th scope=col>Thickness</th><th scope=col>Strap</th><th scope=col>IsDefective</th></tr></thead>\n<tbody>\n\t<tr><td> 1      </td><td>3       </td><td>50      </td><td>26000392</td><td> 1      </td><td>106     </td><td>3       </td><td>1       </td><td>20      </td><td>25      </td><td> 1      </td><td>2       </td></tr>\n\t<tr><td> 2      </td><td>2       </td><td>20      </td><td>  110485</td><td>NA      </td><td>102     </td><td>3       </td><td>1       </td><td>21      </td><td>27      </td><td> 2      </td><td>2       </td></tr>\n\t<tr><td> 2      </td><td>3       </td><td>48      </td><td>  111891</td><td> 2      </td><td>107     </td><td>3       </td><td>1       </td><td>22      </td><td>25      </td><td> 3      </td><td>2       </td></tr>\n\t<tr><td> 3      </td><td>1       </td><td>11      </td><td>  709050</td><td> 4      </td><td>110     </td><td>3       </td><td>1       </td><td>23      </td><td>24      </td><td> 4      </td><td>2       </td></tr>\n\t<tr><td> 3      </td><td>2       </td><td>19      </td><td>  112241</td><td> 1      </td><td>110     </td><td>3       </td><td>1       </td><td>24      </td><td>18      </td><td> 5      </td><td>2       </td></tr>\n\t<tr><td> 3      </td><td>2       </td><td>24      </td><td>  112241</td><td> 1      </td><td>130     </td><td>3       </td><td>1       </td><td>25      </td><td>26      </td><td> 6      </td><td>2       </td></tr>\n\t<tr><td> 3      </td><td>2       </td><td>37      </td><td>  110485</td><td>NA      </td><td>129     </td><td>3       </td><td>1       </td><td>26      </td><td>26      </td><td> 7      </td><td>2       </td></tr>\n\t<tr><td> 3      </td><td>3       </td><td>44      </td><td>  111891</td><td> 2      </td><td>124     </td><td>3       </td><td>1       </td><td>27      </td><td>22      </td><td> 8      </td><td>2       </td></tr>\n\t<tr><td> 4      </td><td>3       </td><td>44      </td><td>26000392</td><td> 1      </td><td>130     </td><td>3       </td><td>1       </td><td>28      </td><td>25      </td><td> 9      </td><td>2       </td></tr>\n\t<tr><td> 5      </td><td>2       </td><td>31      </td><td>  111891</td><td> 2      </td><td>132     </td><td>3       </td><td>1       </td><td>29      </td><td>20      </td><td>10      </td><td>2       </td></tr>\n\t<tr><td> 5      </td><td>3       </td><td>56      </td><td>26000492</td><td> 1      </td><td>132     </td><td>3       </td><td>1       </td><td>30      </td><td>25      </td><td>11      </td><td>2       </td></tr>\n\t<tr><td> 6      </td><td>1       </td><td> 6      </td><td>26009507</td><td> 1      </td><td>132     </td><td>3       </td><td>1       </td><td>31      </td><td>23      </td><td>12      </td><td>2       </td></tr>\n\t<tr><td> 6      </td><td>2       </td><td>34      </td><td>  110485</td><td>NA      </td><td>132     </td><td>3       </td><td>1       </td><td>32      </td><td>23      </td><td>13      </td><td>2       </td></tr>\n\t<tr><td> 7      </td><td>3       </td><td>42      </td><td>  709050</td><td> 4      </td><td> 52     </td><td>3       </td><td>1       </td><td> 0      </td><td>26      </td><td>14      </td><td>2       </td></tr>\n\t<tr><td> 8      </td><td>1       </td><td> 7      </td><td>  112241</td><td> 1      </td><td> 52     </td><td>2       </td><td>1       </td><td> 1      </td><td>25      </td><td>15      </td><td>2       </td></tr>\n\t<tr><td> 8      </td><td>2       </td><td>24      </td><td>  111891</td><td> 2      </td><td> 50     </td><td>3       </td><td>1       </td><td> 2      </td><td>25      </td><td>16      </td><td>2       </td></tr>\n\t<tr><td> 9      </td><td>2       </td><td>26      </td><td>  110485</td><td>NA      </td><td> 58     </td><td>3       </td><td>1       </td><td> 3      </td><td>30      </td><td>17      </td><td>1       </td></tr>\n\t<tr><td> 9      </td><td>3       </td><td>54      </td><td>26000492</td><td> 1      </td><td> 68     </td><td>3       </td><td>1       </td><td> 4      </td><td>26      </td><td>18      </td><td>2       </td></tr>\n\t<tr><td>10      </td><td>3       </td><td>43      </td><td>26000492</td><td> 1      </td><td> 73     </td><td>3       </td><td>1       </td><td> 5      </td><td>39      </td><td>19      </td><td>1       </td></tr>\n\t<tr><td>11      </td><td>1       </td><td> 1      </td><td>  111891</td><td> 2      </td><td> 76     </td><td>3       </td><td>1       </td><td> 6      </td><td>29      </td><td>20      </td><td>1       </td></tr>\n\t<tr><td>11      </td><td>2       </td><td>27      </td><td>26000492</td><td> 1      </td><td> 71     </td><td>3       </td><td>1       </td><td> 7      </td><td>24      </td><td>21      </td><td>2       </td></tr>\n\t<tr><td>11      </td><td>3       </td><td>42      </td><td>  112241</td><td> 1      </td><td> 71     </td><td>3       </td><td>1       </td><td> 8      </td><td>25      </td><td>22      </td><td>2       </td></tr>\n\t<tr><td>12      </td><td>1       </td><td>12      </td><td>26000392</td><td> 1      </td><td> 63     </td><td>3       </td><td>1       </td><td> 9      </td><td>27      </td><td>23      </td><td>2       </td></tr>\n\t<tr><td>12      </td><td>2       </td><td>38      </td><td>26000492</td><td> 1      </td><td> 71     </td><td>3       </td><td>1       </td><td>10      </td><td>30      </td><td>24      </td><td>1       </td></tr>\n\t<tr><td>13      </td><td>1       </td><td>12      </td><td>  111891</td><td> 2      </td><td> 71     </td><td>3       </td><td>1       </td><td>11      </td><td>28      </td><td>25      </td><td>1       </td></tr>\n\t<tr><td>13      </td><td>2       </td><td>21      </td><td>26000492</td><td> 1      </td><td> 72     </td><td>3       </td><td>1       </td><td>12      </td><td>28      </td><td>26      </td><td>1       </td></tr>\n\t<tr><td>13      </td><td>3       </td><td>45      </td><td>26000492</td><td> 1      </td><td> 74     </td><td>3       </td><td>1       </td><td>13      </td><td>29      </td><td>27      </td><td>1       </td></tr>\n\t<tr><td>14      </td><td>1       </td><td> 2      </td><td>26000392</td><td> 1      </td><td> 77     </td><td>3       </td><td>1       </td><td>14      </td><td>23      </td><td>28      </td><td>2       </td></tr>\n\t<tr><td>14      </td><td>2       </td><td>22      </td><td>  110485</td><td>NA      </td><td> 82     </td><td>3       </td><td>1       </td><td>15      </td><td>25      </td><td>29      </td><td>2       </td></tr>\n\t<tr><td>15      </td><td>1       </td><td> 5      </td><td>26000392</td><td> 1      </td><td> 77     </td><td>3       </td><td>1       </td><td>16      </td><td>24      </td><td>30      </td><td>2       </td></tr>\n\t<tr><td>...</td><td>...</td><td>...</td><td>...</td><td>...</td><td>...</td><td>...</td><td>...</td><td>...</td><td>...</td><td>...</td><td>...</td></tr>\n\t<tr><td>40      </td><td>3       </td><td>51      </td><td>26000492</td><td>1       </td><td> 75     </td><td>9       </td><td>2       </td><td>13      </td><td>24      </td><td> 80     </td><td>2       </td></tr>\n\t<tr><td>41      </td><td>2       </td><td>33      </td><td>26000392</td><td>1       </td><td> 75     </td><td>9       </td><td>2       </td><td>14      </td><td>24      </td><td> 81     </td><td>2       </td></tr>\n\t<tr><td>41      </td><td>3       </td><td>41      </td><td>26000492</td><td>1       </td><td> 75     </td><td>9       </td><td>2       </td><td>15      </td><td>30      </td><td> 82     </td><td>1       </td></tr>\n\t<tr><td>42      </td><td>2       </td><td>29      </td><td>  111891</td><td>2       </td><td> 90     </td><td>9       </td><td>2       </td><td>16      </td><td>29      </td><td> 83     </td><td>1       </td></tr>\n\t<tr><td>42      </td><td>3       </td><td>46      </td><td>26000492</td><td>1       </td><td> 90     </td><td>9       </td><td>2       </td><td>17      </td><td>26      </td><td> 84     </td><td>2       </td></tr>\n\t<tr><td>43      </td><td>2       </td><td>31      </td><td>26000392</td><td>1       </td><td> 85     </td><td>9       </td><td>2       </td><td>18      </td><td>25      </td><td> 85     </td><td>2       </td></tr>\n\t<tr><td>43      </td><td>3       </td><td>61      </td><td>26000492</td><td>1       </td><td> 88     </td><td>9       </td><td>2       </td><td>19      </td><td>25      </td><td> 86     </td><td>2       </td></tr>\n\t<tr><td>44      </td><td>2       </td><td>25      </td><td>  111891</td><td>2       </td><td> 90     </td><td>9       </td><td>2       </td><td>20      </td><td>25      </td><td> 87     </td><td>2       </td></tr>\n\t<tr><td>44      </td><td>3       </td><td>62      </td><td>26000492</td><td>1       </td><td> 92     </td><td>9       </td><td>2       </td><td>21      </td><td>25      </td><td> 88     </td><td>2       </td></tr>\n\t<tr><td>45      </td><td>2       </td><td>25      </td><td>  111891</td><td>2       </td><td> 97     </td><td>9       </td><td>2       </td><td>22      </td><td>25      </td><td> 89     </td><td>2       </td></tr>\n\t<tr><td>45      </td><td>3       </td><td>47      </td><td>26000492</td><td>1       </td><td> 97     </td><td>9       </td><td>2       </td><td>23      </td><td>25      </td><td> 90     </td><td>2       </td></tr>\n\t<tr><td>46      </td><td>1       </td><td>13      </td><td>26000492</td><td>1       </td><td> 59     </td><td>7       </td><td>2       </td><td> 1      </td><td>25      </td><td> 91     </td><td>2       </td></tr>\n\t<tr><td>46      </td><td>3       </td><td>52      </td><td>  111891</td><td>2       </td><td> 59     </td><td>7       </td><td>2       </td><td> 2      </td><td>27      </td><td> 92     </td><td>2       </td></tr>\n\t<tr><td>47      </td><td>3       </td><td>50      </td><td>26000392</td><td>1       </td><td> 68     </td><td>7       </td><td>2       </td><td> 3      </td><td>25      </td><td> 93     </td><td>2       </td></tr>\n\t<tr><td>48      </td><td>3       </td><td>49      </td><td>26000492</td><td>1       </td><td> 74     </td><td>7       </td><td>2       </td><td> 4      </td><td>28      </td><td> 94     </td><td>1       </td></tr>\n\t<tr><td>49      </td><td>2       </td><td>33      </td><td>  111891</td><td>2       </td><td> 69     </td><td>7       </td><td>2       </td><td> 5      </td><td>25      </td><td> 95     </td><td>2       </td></tr>\n\t<tr><td>49      </td><td>3       </td><td>63      </td><td>26000492</td><td>1       </td><td> 72     </td><td>7       </td><td>2       </td><td> 6      </td><td>18      </td><td> 96     </td><td>1       </td></tr>\n\t<tr><td>50      </td><td>2       </td><td>25      </td><td>  111891</td><td>2       </td><td> 79     </td><td>7       </td><td>2       </td><td> 7      </td><td>23      </td><td> 97     </td><td>2       </td></tr>\n\t<tr><td>50      </td><td>3       </td><td>57      </td><td>26000492</td><td>1       </td><td> 75     </td><td>7       </td><td>2       </td><td> 8      </td><td>23      </td><td> 98     </td><td>2       </td></tr>\n\t<tr><td>51      </td><td>2       </td><td>33      </td><td>  111891</td><td>2       </td><td> 79     </td><td>7       </td><td>2       </td><td> 9      </td><td>23      </td><td> 99     </td><td>2       </td></tr>\n\t<tr><td>51      </td><td>3       </td><td>59      </td><td>26000492</td><td>1       </td><td> 78     </td><td>7       </td><td>2       </td><td>10      </td><td>21      </td><td>100     </td><td>2       </td></tr>\n\t<tr><td>52      </td><td>2       </td><td>31      </td><td>  111891</td><td>2       </td><td> 99     </td><td>7       </td><td>2       </td><td>11      </td><td>25      </td><td>101     </td><td>2       </td></tr>\n\t<tr><td>53      </td><td>3       </td><td>63      </td><td>26000492</td><td>1       </td><td> 97     </td><td>7       </td><td>2       </td><td>12      </td><td>27      </td><td>102     </td><td>2       </td></tr>\n\t<tr><td>54      </td><td>2       </td><td>28      </td><td>26000492</td><td>1       </td><td>105     </td><td>7       </td><td>2       </td><td>13      </td><td>29      </td><td>103     </td><td>1       </td></tr>\n\t<tr><td>55      </td><td>2       </td><td>38      </td><td>26000492</td><td>1       </td><td>110     </td><td>7       </td><td>2       </td><td>14      </td><td>26      </td><td>104     </td><td>2       </td></tr>\n\t<tr><td>56      </td><td>2       </td><td>36      </td><td>26000492</td><td>1       </td><td>109     </td><td>7       </td><td>2       </td><td>15      </td><td>30      </td><td>105     </td><td>1       </td></tr>\n\t<tr><td>57      </td><td>1       </td><td>12      </td><td>   11189</td><td>2       </td><td>120     </td><td>7       </td><td>2       </td><td>16      </td><td>26      </td><td>106     </td><td>2       </td></tr>\n\t<tr><td>57      </td><td>2       </td><td>37      </td><td>26000492</td><td>1       </td><td>118     </td><td>7       </td><td>2       </td><td>17      </td><td>26      </td><td>107     </td><td>2       </td></tr>\n\t<tr><td>58      </td><td>1       </td><td>17      </td><td>26000492</td><td>1       </td><td> 59     </td><td>7       </td><td>2       </td><td> 1      </td><td>26      </td><td>108     </td><td>2       </td></tr>\n\t<tr><td>59      </td><td>1       </td><td>16      </td><td>26000492</td><td>1       </td><td> 71     </td><td>7       </td><td>2       </td><td> 2      </td><td>25      </td><td>109     </td><td>2       </td></tr>\n</tbody>\n</table>\n"
          },
          "metadata": {}
        }
      ]
    },
    {
      "metadata": {
        "trusted": true
      },
      "cell_type": "code",
      "source": "data$Operator <- NULL\ndata$Strap <- NULL",
      "execution_count": 123,
      "outputs": []
    },
    {
      "metadata": {
        "trusted": true
      },
      "cell_type": "code",
      "source": "head(data)",
      "execution_count": 21,
      "outputs": [
        {
          "output_type": "display_data",
          "data": {
            "text/plain": "  Date Shift Time Experience DyePercentage Flow rate Part Teflon Thickness\n1 1    3     50    1         106           3         1    20     25       \n2 2    2     20   NA         102           3         1    21     27       \n3 2    3     48    2         107           3         1    22     25       \n4 3    1     11    4         110           3         1    23     24       \n5 3    2     19    1         110           3         1    24     18       \n6 3    2     24    1         130           3         1    25     26       \n  IsDefective\n1 2          \n2 2          \n3 2          \n4 2          \n5 2          \n6 2          ",
            "text/latex": "\\begin{tabular}{r|llllllllll}\n Date & Shift & Time & Experience & DyePercentage & Flow rate & Part & Teflon & Thickness & IsDefective\\\\\n\\hline\n\t 1   & 3   & 50  &  1  & 106 & 3   & 1   & 20  & 25  & 2  \\\\\n\t 2   & 2   & 20  & NA  & 102 & 3   & 1   & 21  & 27  & 2  \\\\\n\t 2   & 3   & 48  &  2  & 107 & 3   & 1   & 22  & 25  & 2  \\\\\n\t 3   & 1   & 11  &  4  & 110 & 3   & 1   & 23  & 24  & 2  \\\\\n\t 3   & 2   & 19  &  1  & 110 & 3   & 1   & 24  & 18  & 2  \\\\\n\t 3   & 2   & 24  &  1  & 130 & 3   & 1   & 25  & 26  & 2  \\\\\n\\end{tabular}\n",
            "text/markdown": "\n| Date | Shift | Time | Experience | DyePercentage | Flow rate | Part | Teflon | Thickness | IsDefective |\n|---|---|---|---|---|---|---|---|---|---|\n| 1   | 3   | 50  |  1  | 106 | 3   | 1   | 20  | 25  | 2   |\n| 2   | 2   | 20  | NA  | 102 | 3   | 1   | 21  | 27  | 2   |\n| 2   | 3   | 48  |  2  | 107 | 3   | 1   | 22  | 25  | 2   |\n| 3   | 1   | 11  |  4  | 110 | 3   | 1   | 23  | 24  | 2   |\n| 3   | 2   | 19  |  1  | 110 | 3   | 1   | 24  | 18  | 2   |\n| 3   | 2   | 24  |  1  | 130 | 3   | 1   | 25  | 26  | 2   |\n\n",
            "text/html": "<table>\n<thead><tr><th scope=col>Date</th><th scope=col>Shift</th><th scope=col>Time</th><th scope=col>Experience</th><th scope=col>DyePercentage</th><th scope=col>Flow rate</th><th scope=col>Part</th><th scope=col>Teflon</th><th scope=col>Thickness</th><th scope=col>IsDefective</th></tr></thead>\n<tbody>\n\t<tr><td>1  </td><td>3  </td><td>50 </td><td> 1 </td><td>106</td><td>3  </td><td>1  </td><td>20 </td><td>25 </td><td>2  </td></tr>\n\t<tr><td>2  </td><td>2  </td><td>20 </td><td>NA </td><td>102</td><td>3  </td><td>1  </td><td>21 </td><td>27 </td><td>2  </td></tr>\n\t<tr><td>2  </td><td>3  </td><td>48 </td><td> 2 </td><td>107</td><td>3  </td><td>1  </td><td>22 </td><td>25 </td><td>2  </td></tr>\n\t<tr><td>3  </td><td>1  </td><td>11 </td><td> 4 </td><td>110</td><td>3  </td><td>1  </td><td>23 </td><td>24 </td><td>2  </td></tr>\n\t<tr><td>3  </td><td>2  </td><td>19 </td><td> 1 </td><td>110</td><td>3  </td><td>1  </td><td>24 </td><td>18 </td><td>2  </td></tr>\n\t<tr><td>3  </td><td>2  </td><td>24 </td><td> 1 </td><td>130</td><td>3  </td><td>1  </td><td>25 </td><td>26 </td><td>2  </td></tr>\n</tbody>\n</table>\n"
          },
          "metadata": {}
        }
      ]
    },
    {
      "metadata": {
        "trusted": true
      },
      "cell_type": "code",
      "source": "X <- data\ny <- data[[\"IsDefective\"]]\nX$IsDefective <- NULL",
      "execution_count": 124,
      "outputs": []
    },
    {
      "metadata": {
        "trusted": true
      },
      "cell_type": "code",
      "source": "head(X)",
      "execution_count": 125,
      "outputs": [
        {
          "output_type": "display_data",
          "data": {
            "text/plain": "  Date Shift Time Experience DyePercentage Flow rate Part Teflon Thickness\n1 1    3     50    1         106           3         1    20     25       \n2 2    2     20   NA         102           3         1    21     27       \n3 2    3     48    2         107           3         1    22     25       \n4 3    1     11    4         110           3         1    23     24       \n5 3    2     19    1         110           3         1    24     18       \n6 3    2     24    1         130           3         1    25     26       ",
            "text/latex": "\\begin{tabular}{r|lllllllll}\n Date & Shift & Time & Experience & DyePercentage & Flow rate & Part & Teflon & Thickness\\\\\n\\hline\n\t 1   & 3   & 50  &  1  & 106 & 3   & 1   & 20  & 25 \\\\\n\t 2   & 2   & 20  & NA  & 102 & 3   & 1   & 21  & 27 \\\\\n\t 2   & 3   & 48  &  2  & 107 & 3   & 1   & 22  & 25 \\\\\n\t 3   & 1   & 11  &  4  & 110 & 3   & 1   & 23  & 24 \\\\\n\t 3   & 2   & 19  &  1  & 110 & 3   & 1   & 24  & 18 \\\\\n\t 3   & 2   & 24  &  1  & 130 & 3   & 1   & 25  & 26 \\\\\n\\end{tabular}\n",
            "text/markdown": "\n| Date | Shift | Time | Experience | DyePercentage | Flow rate | Part | Teflon | Thickness |\n|---|---|---|---|---|---|---|---|---|\n| 1   | 3   | 50  |  1  | 106 | 3   | 1   | 20  | 25  |\n| 2   | 2   | 20  | NA  | 102 | 3   | 1   | 21  | 27  |\n| 2   | 3   | 48  |  2  | 107 | 3   | 1   | 22  | 25  |\n| 3   | 1   | 11  |  4  | 110 | 3   | 1   | 23  | 24  |\n| 3   | 2   | 19  |  1  | 110 | 3   | 1   | 24  | 18  |\n| 3   | 2   | 24  |  1  | 130 | 3   | 1   | 25  | 26  |\n\n",
            "text/html": "<table>\n<thead><tr><th scope=col>Date</th><th scope=col>Shift</th><th scope=col>Time</th><th scope=col>Experience</th><th scope=col>DyePercentage</th><th scope=col>Flow rate</th><th scope=col>Part</th><th scope=col>Teflon</th><th scope=col>Thickness</th></tr></thead>\n<tbody>\n\t<tr><td>1  </td><td>3  </td><td>50 </td><td> 1 </td><td>106</td><td>3  </td><td>1  </td><td>20 </td><td>25 </td></tr>\n\t<tr><td>2  </td><td>2  </td><td>20 </td><td>NA </td><td>102</td><td>3  </td><td>1  </td><td>21 </td><td>27 </td></tr>\n\t<tr><td>2  </td><td>3  </td><td>48 </td><td> 2 </td><td>107</td><td>3  </td><td>1  </td><td>22 </td><td>25 </td></tr>\n\t<tr><td>3  </td><td>1  </td><td>11 </td><td> 4 </td><td>110</td><td>3  </td><td>1  </td><td>23 </td><td>24 </td></tr>\n\t<tr><td>3  </td><td>2  </td><td>19 </td><td> 1 </td><td>110</td><td>3  </td><td>1  </td><td>24 </td><td>18 </td></tr>\n\t<tr><td>3  </td><td>2  </td><td>24 </td><td> 1 </td><td>130</td><td>3  </td><td>1  </td><td>25 </td><td>26 </td></tr>\n</tbody>\n</table>\n"
          },
          "metadata": {}
        }
      ]
    },
    {
      "metadata": {
        "trusted": true
      },
      "cell_type": "code",
      "source": "install.packages(\"lattice\")\nlibrary(mice)",
      "execution_count": 10,
      "outputs": [
        {
          "output_type": "stream",
          "text": "Installing package into ‘/home/nbuser/R’\n(as ‘lib’ is unspecified)\n",
          "name": "stderr"
        }
      ]
    },
    {
      "metadata": {
        "trusted": true
      },
      "cell_type": "code",
      "source": "methods(mice)",
      "execution_count": 14,
      "outputs": [
        {
          "output_type": "stream",
          "text": "Warning message in .S3methods(generic.function, class, parent.frame()):\n“function 'mice' appears not to be S3 generic; found functions that look like S3 methods”",
          "name": "stderr"
        },
        {
          "output_type": "display_data",
          "data": {
            "text/plain": " [1] mice.impute.2l.lmer      mice.impute.2l.norm      mice.impute.2l.pan      \n [4] mice.impute.2lonly.mean  mice.impute.2lonly.norm  mice.impute.2lonly.pmm  \n [7] mice.impute.cart         mice.impute.lda          mice.impute.logreg      \n[10] mice.impute.logreg.boot  mice.impute.mean         mice.impute.midastouch  \n[13] mice.impute.norm         mice.impute.norm.boot    mice.impute.norm.nob    \n[16] mice.impute.norm.predict mice.impute.passive      mice.impute.pmm         \n[19] mice.impute.polr         mice.impute.polyreg      mice.impute.quadratic   \n[22] mice.impute.rf           mice.impute.ri           mice.impute.sample      \n[25] mice.mids                mice.theme              \nsee '?methods' for accessing help and source code"
          },
          "metadata": {}
        }
      ]
    },
    {
      "metadata": {
        "trusted": true
      },
      "cell_type": "code",
      "source": "install.packages(\"bnstruct\")",
      "execution_count": 43,
      "outputs": [
        {
          "output_type": "stream",
          "text": "Installing package into ‘/home/nbuser/R’\n(as ‘lib’ is unspecified)\n",
          "name": "stderr"
        }
      ]
    },
    {
      "metadata": {
        "trusted": true
      },
      "cell_type": "code",
      "source": "library(\"bnstruct\")",
      "execution_count": 48,
      "outputs": [
        {
          "output_type": "stream",
          "text": "Loading required package: bitops\nLoading required package: Matrix\nLoading required package: igraph\n\nAttaching package: ‘igraph’\n\nThe following objects are masked from ‘package:stats’:\n\n    decompose, spectrum\n\nThe following object is masked from ‘package:base’:\n\n    union\n\n\nAttaching package: ‘bnstruct’\n\nThe following object is masked from ‘package:mice’:\n\n    complete\n\n",
          "name": "stderr"
        }
      ]
    },
    {
      "metadata": {
        "trusted": true
      },
      "cell_type": "code",
      "source": "library(VIM)",
      "execution_count": 56,
      "outputs": [
        {
          "output_type": "stream",
          "text": "Loading required package: colorspace\nLoading required package: grid\nLoading required package: data.table\nVIM is ready to use. \n Since version 4.0.0 the GUI is in its own package VIMGUI.\n\n          Please use the package to use the new (and old) GUI.\n\nSuggestions and bug-reports can be submitted at: https://github.com/alexkowa/VIM/issues\n\nAttaching package: ‘VIM’\n\nThe following object is masked from ‘package:datasets’:\n\n    sleep\n\n",
          "name": "stderr"
        }
      ]
    },
    {
      "metadata": {
        "trusted": true
      },
      "cell_type": "code",
      "source": "?kNN()",
      "execution_count": 60,
      "outputs": []
    },
    {
      "metadata": {},
      "cell_type": "markdown",
      "source": "#### kNN Imputation\n\nWe can apply methods of imputation for avoid effects of missing data. `kNN imputation` is one of these methods. It finds that missing values are in which classes for categorical columns. So, this method can be applied for `experience` feature which has missing(NaN) values using kNN algoithm. "
    },
    {
      "metadata": {
        "trusted": true
      },
      "cell_type": "code",
      "source": "X <- kNN(X, variable = c(\"Experience\"), k = 5)",
      "execution_count": 126,
      "outputs": []
    },
    {
      "metadata": {
        "trusted": true
      },
      "cell_type": "code",
      "source": "head(X)",
      "execution_count": 127,
      "outputs": [
        {
          "output_type": "display_data",
          "data": {
            "text/plain": "  Date Shift Time Experience DyePercentage Flow rate Part Teflon Thickness\n1 1    3     50   1          106           3         1    20     25       \n2 2    2     20   1          102           3         1    21     27       \n3 2    3     48   2          107           3         1    22     25       \n4 3    1     11   4          110           3         1    23     24       \n5 3    2     19   1          110           3         1    24     18       \n6 3    2     24   1          130           3         1    25     26       \n  Experience_imp\n1 FALSE         \n2  TRUE         \n3 FALSE         \n4 FALSE         \n5 FALSE         \n6 FALSE         ",
            "text/latex": "\\begin{tabular}{r|llllllllll}\n Date & Shift & Time & Experience & DyePercentage & Flow rate & Part & Teflon & Thickness & Experience\\_imp\\\\\n\\hline\n\t 1     & 3     & 50    & 1     & 106   & 3     & 1     & 20    & 25    & FALSE\\\\\n\t 2     & 2     & 20    & 1     & 102   & 3     & 1     & 21    & 27    &  TRUE\\\\\n\t 2     & 3     & 48    & 2     & 107   & 3     & 1     & 22    & 25    & FALSE\\\\\n\t 3     & 1     & 11    & 4     & 110   & 3     & 1     & 23    & 24    & FALSE\\\\\n\t 3     & 2     & 19    & 1     & 110   & 3     & 1     & 24    & 18    & FALSE\\\\\n\t 3     & 2     & 24    & 1     & 130   & 3     & 1     & 25    & 26    & FALSE\\\\\n\\end{tabular}\n",
            "text/markdown": "\n| Date | Shift | Time | Experience | DyePercentage | Flow rate | Part | Teflon | Thickness | Experience_imp |\n|---|---|---|---|---|---|---|---|---|---|\n| 1     | 3     | 50    | 1     | 106   | 3     | 1     | 20    | 25    | FALSE |\n| 2     | 2     | 20    | 1     | 102   | 3     | 1     | 21    | 27    |  TRUE |\n| 2     | 3     | 48    | 2     | 107   | 3     | 1     | 22    | 25    | FALSE |\n| 3     | 1     | 11    | 4     | 110   | 3     | 1     | 23    | 24    | FALSE |\n| 3     | 2     | 19    | 1     | 110   | 3     | 1     | 24    | 18    | FALSE |\n| 3     | 2     | 24    | 1     | 130   | 3     | 1     | 25    | 26    | FALSE |\n\n",
            "text/html": "<table>\n<thead><tr><th scope=col>Date</th><th scope=col>Shift</th><th scope=col>Time</th><th scope=col>Experience</th><th scope=col>DyePercentage</th><th scope=col>Flow rate</th><th scope=col>Part</th><th scope=col>Teflon</th><th scope=col>Thickness</th><th scope=col>Experience_imp</th></tr></thead>\n<tbody>\n\t<tr><td>1    </td><td>3    </td><td>50   </td><td>1    </td><td>106  </td><td>3    </td><td>1    </td><td>20   </td><td>25   </td><td>FALSE</td></tr>\n\t<tr><td>2    </td><td>2    </td><td>20   </td><td>1    </td><td>102  </td><td>3    </td><td>1    </td><td>21   </td><td>27   </td><td> TRUE</td></tr>\n\t<tr><td>2    </td><td>3    </td><td>48   </td><td>2    </td><td>107  </td><td>3    </td><td>1    </td><td>22   </td><td>25   </td><td>FALSE</td></tr>\n\t<tr><td>3    </td><td>1    </td><td>11   </td><td>4    </td><td>110  </td><td>3    </td><td>1    </td><td>23   </td><td>24   </td><td>FALSE</td></tr>\n\t<tr><td>3    </td><td>2    </td><td>19   </td><td>1    </td><td>110  </td><td>3    </td><td>1    </td><td>24   </td><td>18   </td><td>FALSE</td></tr>\n\t<tr><td>3    </td><td>2    </td><td>24   </td><td>1    </td><td>130  </td><td>3    </td><td>1    </td><td>25   </td><td>26   </td><td>FALSE</td></tr>\n</tbody>\n</table>\n"
          },
          "metadata": {}
        }
      ]
    },
    {
      "metadata": {
        "trusted": true
      },
      "cell_type": "code",
      "source": "X$Experience_imp <- NULL",
      "execution_count": 128,
      "outputs": []
    },
    {
      "metadata": {
        "trusted": true
      },
      "cell_type": "code",
      "source": "head(X)",
      "execution_count": 129,
      "outputs": [
        {
          "output_type": "display_data",
          "data": {
            "text/plain": "  Date Shift Time Experience DyePercentage Flow rate Part Teflon Thickness\n1 1    3     50   1          106           3         1    20     25       \n2 2    2     20   1          102           3         1    21     27       \n3 2    3     48   2          107           3         1    22     25       \n4 3    1     11   4          110           3         1    23     24       \n5 3    2     19   1          110           3         1    24     18       \n6 3    2     24   1          130           3         1    25     26       ",
            "text/latex": "\\begin{tabular}{r|lllllllll}\n Date & Shift & Time & Experience & DyePercentage & Flow rate & Part & Teflon & Thickness\\\\\n\\hline\n\t 1   & 3   & 50  & 1   & 106 & 3   & 1   & 20  & 25 \\\\\n\t 2   & 2   & 20  & 1   & 102 & 3   & 1   & 21  & 27 \\\\\n\t 2   & 3   & 48  & 2   & 107 & 3   & 1   & 22  & 25 \\\\\n\t 3   & 1   & 11  & 4   & 110 & 3   & 1   & 23  & 24 \\\\\n\t 3   & 2   & 19  & 1   & 110 & 3   & 1   & 24  & 18 \\\\\n\t 3   & 2   & 24  & 1   & 130 & 3   & 1   & 25  & 26 \\\\\n\\end{tabular}\n",
            "text/markdown": "\n| Date | Shift | Time | Experience | DyePercentage | Flow rate | Part | Teflon | Thickness |\n|---|---|---|---|---|---|---|---|---|\n| 1   | 3   | 50  | 1   | 106 | 3   | 1   | 20  | 25  |\n| 2   | 2   | 20  | 1   | 102 | 3   | 1   | 21  | 27  |\n| 2   | 3   | 48  | 2   | 107 | 3   | 1   | 22  | 25  |\n| 3   | 1   | 11  | 4   | 110 | 3   | 1   | 23  | 24  |\n| 3   | 2   | 19  | 1   | 110 | 3   | 1   | 24  | 18  |\n| 3   | 2   | 24  | 1   | 130 | 3   | 1   | 25  | 26  |\n\n",
            "text/html": "<table>\n<thead><tr><th scope=col>Date</th><th scope=col>Shift</th><th scope=col>Time</th><th scope=col>Experience</th><th scope=col>DyePercentage</th><th scope=col>Flow rate</th><th scope=col>Part</th><th scope=col>Teflon</th><th scope=col>Thickness</th></tr></thead>\n<tbody>\n\t<tr><td>1  </td><td>3  </td><td>50 </td><td>1  </td><td>106</td><td>3  </td><td>1  </td><td>20 </td><td>25 </td></tr>\n\t<tr><td>2  </td><td>2  </td><td>20 </td><td>1  </td><td>102</td><td>3  </td><td>1  </td><td>21 </td><td>27 </td></tr>\n\t<tr><td>2  </td><td>3  </td><td>48 </td><td>2  </td><td>107</td><td>3  </td><td>1  </td><td>22 </td><td>25 </td></tr>\n\t<tr><td>3  </td><td>1  </td><td>11 </td><td>4  </td><td>110</td><td>3  </td><td>1  </td><td>23 </td><td>24 </td></tr>\n\t<tr><td>3  </td><td>2  </td><td>19 </td><td>1  </td><td>110</td><td>3  </td><td>1  </td><td>24 </td><td>18 </td></tr>\n\t<tr><td>3  </td><td>2  </td><td>24 </td><td>1  </td><td>130</td><td>3  </td><td>1  </td><td>25 </td><td>26 </td></tr>\n</tbody>\n</table>\n"
          },
          "metadata": {}
        }
      ]
    },
    {
      "metadata": {
        "trusted": true
      },
      "cell_type": "code",
      "source": "data[[\"Experience\"]] <- X$Experience",
      "execution_count": 130,
      "outputs": []
    },
    {
      "metadata": {
        "trusted": true
      },
      "cell_type": "code",
      "source": "data",
      "execution_count": 131,
      "outputs": [
        {
          "output_type": "display_data",
          "data": {
            "text/plain": "    Date Shift Time Experience DyePercentage Flow rate Part Teflon Thickness\n1    1   3     50   1          106           3         1    20     25       \n2    2   2     20   1          102           3         1    21     27       \n3    2   3     48   2          107           3         1    22     25       \n4    3   1     11   4          110           3         1    23     24       \n5    3   2     19   1          110           3         1    24     18       \n6    3   2     24   1          130           3         1    25     26       \n7    3   2     37   1          129           3         1    26     26       \n8    3   3     44   2          124           3         1    27     22       \n9    4   3     44   1          130           3         1    28     25       \n10   5   2     31   2          132           3         1    29     20       \n11   5   3     56   1          132           3         1    30     25       \n12   6   1      6   1          132           3         1    31     23       \n13   6   2     34   1          132           3         1    32     23       \n14   7   3     42   4           52           3         1     0     26       \n15   8   1      7   1           52           2         1     1     25       \n16   8   2     24   2           50           3         1     2     25       \n17   9   2     26   1           58           3         1     3     30       \n18   9   3     54   1           68           3         1     4     26       \n19  10   3     43   1           73           3         1     5     39       \n20  11   1      1   2           76           3         1     6     29       \n21  11   2     27   1           71           3         1     7     24       \n22  11   3     42   1           71           3         1     8     25       \n23  12   1     12   1           63           3         1     9     27       \n24  12   2     38   1           71           3         1    10     30       \n25  13   1     12   2           71           3         1    11     28       \n26  13   2     21   1           72           3         1    12     28       \n27  13   3     45   1           74           3         1    13     29       \n28  14   1      2   1           77           3         1    14     23       \n29  14   2     22   1           82           3         1    15     25       \n30  15   1      5   1           77           3         1    16     24       \n... ...  ...   ...  ...        ...           ...       ...  ...    ...      \n298 40   3     51   1           75           9         2    13     24       \n299 41   2     33   1           75           9         2    14     24       \n300 41   3     41   1           75           9         2    15     30       \n301 42   2     29   2           90           9         2    16     29       \n302 42   3     46   1           90           9         2    17     26       \n303 43   2     31   1           85           9         2    18     25       \n304 43   3     61   1           88           9         2    19     25       \n305 44   2     25   2           90           9         2    20     25       \n306 44   3     62   1           92           9         2    21     25       \n307 45   2     25   2           97           9         2    22     25       \n308 45   3     47   1           97           9         2    23     25       \n309 46   1     13   1           59           7         2     1     25       \n310 46   3     52   2           59           7         2     2     27       \n311 47   3     50   1           68           7         2     3     25       \n312 48   3     49   1           74           7         2     4     28       \n313 49   2     33   2           69           7         2     5     25       \n314 49   3     63   1           72           7         2     6     18       \n315 50   2     25   2           79           7         2     7     23       \n316 50   3     57   1           75           7         2     8     23       \n317 51   2     33   2           79           7         2     9     23       \n318 51   3     59   1           78           7         2    10     21       \n319 52   2     31   2           99           7         2    11     25       \n320 53   3     63   1           97           7         2    12     27       \n321 54   2     28   1          105           7         2    13     29       \n322 55   2     38   1          110           7         2    14     26       \n323 56   2     36   1          109           7         2    15     30       \n324 57   1     12   2          120           7         2    16     26       \n325 57   2     37   1          118           7         2    17     26       \n326 58   1     17   1           59           7         2     1     26       \n327 59   1     16   1           71           7         2     2     25       \n    IsDefective\n1   2          \n2   2          \n3   2          \n4   2          \n5   2          \n6   2          \n7   2          \n8   2          \n9   2          \n10  2          \n11  2          \n12  2          \n13  2          \n14  2          \n15  2          \n16  2          \n17  1          \n18  2          \n19  1          \n20  1          \n21  2          \n22  2          \n23  2          \n24  1          \n25  1          \n26  1          \n27  1          \n28  2          \n29  2          \n30  2          \n... ...        \n298 2          \n299 2          \n300 1          \n301 1          \n302 2          \n303 2          \n304 2          \n305 2          \n306 2          \n307 2          \n308 2          \n309 2          \n310 2          \n311 2          \n312 1          \n313 2          \n314 1          \n315 2          \n316 2          \n317 2          \n318 2          \n319 2          \n320 2          \n321 1          \n322 2          \n323 1          \n324 2          \n325 2          \n326 2          \n327 2          ",
            "text/latex": "\\begin{tabular}{r|llllllllll}\n Date & Shift & Time & Experience & DyePercentage & Flow rate & Part & Teflon & Thickness & IsDefective\\\\\n\\hline\n\t  1  & 3   & 50  & 1   & 106 & 3   & 1   & 20  & 25  & 2  \\\\\n\t  2  & 2   & 20  & 1   & 102 & 3   & 1   & 21  & 27  & 2  \\\\\n\t  2  & 3   & 48  & 2   & 107 & 3   & 1   & 22  & 25  & 2  \\\\\n\t  3  & 1   & 11  & 4   & 110 & 3   & 1   & 23  & 24  & 2  \\\\\n\t  3  & 2   & 19  & 1   & 110 & 3   & 1   & 24  & 18  & 2  \\\\\n\t  3  & 2   & 24  & 1   & 130 & 3   & 1   & 25  & 26  & 2  \\\\\n\t  3  & 2   & 37  & 1   & 129 & 3   & 1   & 26  & 26  & 2  \\\\\n\t  3  & 3   & 44  & 2   & 124 & 3   & 1   & 27  & 22  & 2  \\\\\n\t  4  & 3   & 44  & 1   & 130 & 3   & 1   & 28  & 25  & 2  \\\\\n\t  5  & 2   & 31  & 2   & 132 & 3   & 1   & 29  & 20  & 2  \\\\\n\t  5  & 3   & 56  & 1   & 132 & 3   & 1   & 30  & 25  & 2  \\\\\n\t  6  & 1   &  6  & 1   & 132 & 3   & 1   & 31  & 23  & 2  \\\\\n\t  6  & 2   & 34  & 1   & 132 & 3   & 1   & 32  & 23  & 2  \\\\\n\t  7  & 3   & 42  & 4   &  52 & 3   & 1   &  0  & 26  & 2  \\\\\n\t  8  & 1   &  7  & 1   &  52 & 2   & 1   &  1  & 25  & 2  \\\\\n\t  8  & 2   & 24  & 2   &  50 & 3   & 1   &  2  & 25  & 2  \\\\\n\t  9  & 2   & 26  & 1   &  58 & 3   & 1   &  3  & 30  & 1  \\\\\n\t  9  & 3   & 54  & 1   &  68 & 3   & 1   &  4  & 26  & 2  \\\\\n\t 10  & 3   & 43  & 1   &  73 & 3   & 1   &  5  & 39  & 1  \\\\\n\t 11  & 1   &  1  & 2   &  76 & 3   & 1   &  6  & 29  & 1  \\\\\n\t 11  & 2   & 27  & 1   &  71 & 3   & 1   &  7  & 24  & 2  \\\\\n\t 11  & 3   & 42  & 1   &  71 & 3   & 1   &  8  & 25  & 2  \\\\\n\t 12  & 1   & 12  & 1   &  63 & 3   & 1   &  9  & 27  & 2  \\\\\n\t 12  & 2   & 38  & 1   &  71 & 3   & 1   & 10  & 30  & 1  \\\\\n\t 13  & 1   & 12  & 2   &  71 & 3   & 1   & 11  & 28  & 1  \\\\\n\t 13  & 2   & 21  & 1   &  72 & 3   & 1   & 12  & 28  & 1  \\\\\n\t 13  & 3   & 45  & 1   &  74 & 3   & 1   & 13  & 29  & 1  \\\\\n\t 14  & 1   &  2  & 1   &  77 & 3   & 1   & 14  & 23  & 2  \\\\\n\t 14  & 2   & 22  & 1   &  82 & 3   & 1   & 15  & 25  & 2  \\\\\n\t 15  & 1   &  5  & 1   &  77 & 3   & 1   & 16  & 24  & 2  \\\\\n\t ... & ... & ... & ... & ... & ... & ... & ... & ... & ...\\\\\n\t 40  & 3   & 51  & 1   &  75 & 9   & 2   & 13  & 24  & 2  \\\\\n\t 41  & 2   & 33  & 1   &  75 & 9   & 2   & 14  & 24  & 2  \\\\\n\t 41  & 3   & 41  & 1   &  75 & 9   & 2   & 15  & 30  & 1  \\\\\n\t 42  & 2   & 29  & 2   &  90 & 9   & 2   & 16  & 29  & 1  \\\\\n\t 42  & 3   & 46  & 1   &  90 & 9   & 2   & 17  & 26  & 2  \\\\\n\t 43  & 2   & 31  & 1   &  85 & 9   & 2   & 18  & 25  & 2  \\\\\n\t 43  & 3   & 61  & 1   &  88 & 9   & 2   & 19  & 25  & 2  \\\\\n\t 44  & 2   & 25  & 2   &  90 & 9   & 2   & 20  & 25  & 2  \\\\\n\t 44  & 3   & 62  & 1   &  92 & 9   & 2   & 21  & 25  & 2  \\\\\n\t 45  & 2   & 25  & 2   &  97 & 9   & 2   & 22  & 25  & 2  \\\\\n\t 45  & 3   & 47  & 1   &  97 & 9   & 2   & 23  & 25  & 2  \\\\\n\t 46  & 1   & 13  & 1   &  59 & 7   & 2   &  1  & 25  & 2  \\\\\n\t 46  & 3   & 52  & 2   &  59 & 7   & 2   &  2  & 27  & 2  \\\\\n\t 47  & 3   & 50  & 1   &  68 & 7   & 2   &  3  & 25  & 2  \\\\\n\t 48  & 3   & 49  & 1   &  74 & 7   & 2   &  4  & 28  & 1  \\\\\n\t 49  & 2   & 33  & 2   &  69 & 7   & 2   &  5  & 25  & 2  \\\\\n\t 49  & 3   & 63  & 1   &  72 & 7   & 2   &  6  & 18  & 1  \\\\\n\t 50  & 2   & 25  & 2   &  79 & 7   & 2   &  7  & 23  & 2  \\\\\n\t 50  & 3   & 57  & 1   &  75 & 7   & 2   &  8  & 23  & 2  \\\\\n\t 51  & 2   & 33  & 2   &  79 & 7   & 2   &  9  & 23  & 2  \\\\\n\t 51  & 3   & 59  & 1   &  78 & 7   & 2   & 10  & 21  & 2  \\\\\n\t 52  & 2   & 31  & 2   &  99 & 7   & 2   & 11  & 25  & 2  \\\\\n\t 53  & 3   & 63  & 1   &  97 & 7   & 2   & 12  & 27  & 2  \\\\\n\t 54  & 2   & 28  & 1   & 105 & 7   & 2   & 13  & 29  & 1  \\\\\n\t 55  & 2   & 38  & 1   & 110 & 7   & 2   & 14  & 26  & 2  \\\\\n\t 56  & 2   & 36  & 1   & 109 & 7   & 2   & 15  & 30  & 1  \\\\\n\t 57  & 1   & 12  & 2   & 120 & 7   & 2   & 16  & 26  & 2  \\\\\n\t 57  & 2   & 37  & 1   & 118 & 7   & 2   & 17  & 26  & 2  \\\\\n\t 58  & 1   & 17  & 1   &  59 & 7   & 2   &  1  & 26  & 2  \\\\\n\t 59  & 1   & 16  & 1   &  71 & 7   & 2   &  2  & 25  & 2  \\\\\n\\end{tabular}\n",
            "text/markdown": "\n| Date | Shift | Time | Experience | DyePercentage | Flow rate | Part | Teflon | Thickness | IsDefective |\n|---|---|---|---|---|---|---|---|---|---|\n|  1  | 3   | 50  | 1   | 106 | 3   | 1   | 20  | 25  | 2   |\n|  2  | 2   | 20  | 1   | 102 | 3   | 1   | 21  | 27  | 2   |\n|  2  | 3   | 48  | 2   | 107 | 3   | 1   | 22  | 25  | 2   |\n|  3  | 1   | 11  | 4   | 110 | 3   | 1   | 23  | 24  | 2   |\n|  3  | 2   | 19  | 1   | 110 | 3   | 1   | 24  | 18  | 2   |\n|  3  | 2   | 24  | 1   | 130 | 3   | 1   | 25  | 26  | 2   |\n|  3  | 2   | 37  | 1   | 129 | 3   | 1   | 26  | 26  | 2   |\n|  3  | 3   | 44  | 2   | 124 | 3   | 1   | 27  | 22  | 2   |\n|  4  | 3   | 44  | 1   | 130 | 3   | 1   | 28  | 25  | 2   |\n|  5  | 2   | 31  | 2   | 132 | 3   | 1   | 29  | 20  | 2   |\n|  5  | 3   | 56  | 1   | 132 | 3   | 1   | 30  | 25  | 2   |\n|  6  | 1   |  6  | 1   | 132 | 3   | 1   | 31  | 23  | 2   |\n|  6  | 2   | 34  | 1   | 132 | 3   | 1   | 32  | 23  | 2   |\n|  7  | 3   | 42  | 4   |  52 | 3   | 1   |  0  | 26  | 2   |\n|  8  | 1   |  7  | 1   |  52 | 2   | 1   |  1  | 25  | 2   |\n|  8  | 2   | 24  | 2   |  50 | 3   | 1   |  2  | 25  | 2   |\n|  9  | 2   | 26  | 1   |  58 | 3   | 1   |  3  | 30  | 1   |\n|  9  | 3   | 54  | 1   |  68 | 3   | 1   |  4  | 26  | 2   |\n| 10  | 3   | 43  | 1   |  73 | 3   | 1   |  5  | 39  | 1   |\n| 11  | 1   |  1  | 2   |  76 | 3   | 1   |  6  | 29  | 1   |\n| 11  | 2   | 27  | 1   |  71 | 3   | 1   |  7  | 24  | 2   |\n| 11  | 3   | 42  | 1   |  71 | 3   | 1   |  8  | 25  | 2   |\n| 12  | 1   | 12  | 1   |  63 | 3   | 1   |  9  | 27  | 2   |\n| 12  | 2   | 38  | 1   |  71 | 3   | 1   | 10  | 30  | 1   |\n| 13  | 1   | 12  | 2   |  71 | 3   | 1   | 11  | 28  | 1   |\n| 13  | 2   | 21  | 1   |  72 | 3   | 1   | 12  | 28  | 1   |\n| 13  | 3   | 45  | 1   |  74 | 3   | 1   | 13  | 29  | 1   |\n| 14  | 1   |  2  | 1   |  77 | 3   | 1   | 14  | 23  | 2   |\n| 14  | 2   | 22  | 1   |  82 | 3   | 1   | 15  | 25  | 2   |\n| 15  | 1   |  5  | 1   |  77 | 3   | 1   | 16  | 24  | 2   |\n| ... | ... | ... | ... | ... | ... | ... | ... | ... | ... |\n| 40  | 3   | 51  | 1   |  75 | 9   | 2   | 13  | 24  | 2   |\n| 41  | 2   | 33  | 1   |  75 | 9   | 2   | 14  | 24  | 2   |\n| 41  | 3   | 41  | 1   |  75 | 9   | 2   | 15  | 30  | 1   |\n| 42  | 2   | 29  | 2   |  90 | 9   | 2   | 16  | 29  | 1   |\n| 42  | 3   | 46  | 1   |  90 | 9   | 2   | 17  | 26  | 2   |\n| 43  | 2   | 31  | 1   |  85 | 9   | 2   | 18  | 25  | 2   |\n| 43  | 3   | 61  | 1   |  88 | 9   | 2   | 19  | 25  | 2   |\n| 44  | 2   | 25  | 2   |  90 | 9   | 2   | 20  | 25  | 2   |\n| 44  | 3   | 62  | 1   |  92 | 9   | 2   | 21  | 25  | 2   |\n| 45  | 2   | 25  | 2   |  97 | 9   | 2   | 22  | 25  | 2   |\n| 45  | 3   | 47  | 1   |  97 | 9   | 2   | 23  | 25  | 2   |\n| 46  | 1   | 13  | 1   |  59 | 7   | 2   |  1  | 25  | 2   |\n| 46  | 3   | 52  | 2   |  59 | 7   | 2   |  2  | 27  | 2   |\n| 47  | 3   | 50  | 1   |  68 | 7   | 2   |  3  | 25  | 2   |\n| 48  | 3   | 49  | 1   |  74 | 7   | 2   |  4  | 28  | 1   |\n| 49  | 2   | 33  | 2   |  69 | 7   | 2   |  5  | 25  | 2   |\n| 49  | 3   | 63  | 1   |  72 | 7   | 2   |  6  | 18  | 1   |\n| 50  | 2   | 25  | 2   |  79 | 7   | 2   |  7  | 23  | 2   |\n| 50  | 3   | 57  | 1   |  75 | 7   | 2   |  8  | 23  | 2   |\n| 51  | 2   | 33  | 2   |  79 | 7   | 2   |  9  | 23  | 2   |\n| 51  | 3   | 59  | 1   |  78 | 7   | 2   | 10  | 21  | 2   |\n| 52  | 2   | 31  | 2   |  99 | 7   | 2   | 11  | 25  | 2   |\n| 53  | 3   | 63  | 1   |  97 | 7   | 2   | 12  | 27  | 2   |\n| 54  | 2   | 28  | 1   | 105 | 7   | 2   | 13  | 29  | 1   |\n| 55  | 2   | 38  | 1   | 110 | 7   | 2   | 14  | 26  | 2   |\n| 56  | 2   | 36  | 1   | 109 | 7   | 2   | 15  | 30  | 1   |\n| 57  | 1   | 12  | 2   | 120 | 7   | 2   | 16  | 26  | 2   |\n| 57  | 2   | 37  | 1   | 118 | 7   | 2   | 17  | 26  | 2   |\n| 58  | 1   | 17  | 1   |  59 | 7   | 2   |  1  | 26  | 2   |\n| 59  | 1   | 16  | 1   |  71 | 7   | 2   |  2  | 25  | 2   |\n\n",
            "text/html": "<table>\n<thead><tr><th scope=col>Date</th><th scope=col>Shift</th><th scope=col>Time</th><th scope=col>Experience</th><th scope=col>DyePercentage</th><th scope=col>Flow rate</th><th scope=col>Part</th><th scope=col>Teflon</th><th scope=col>Thickness</th><th scope=col>IsDefective</th></tr></thead>\n<tbody>\n\t<tr><td> 1 </td><td>3  </td><td>50 </td><td>1  </td><td>106</td><td>3  </td><td>1  </td><td>20 </td><td>25 </td><td>2  </td></tr>\n\t<tr><td> 2 </td><td>2  </td><td>20 </td><td>1  </td><td>102</td><td>3  </td><td>1  </td><td>21 </td><td>27 </td><td>2  </td></tr>\n\t<tr><td> 2 </td><td>3  </td><td>48 </td><td>2  </td><td>107</td><td>3  </td><td>1  </td><td>22 </td><td>25 </td><td>2  </td></tr>\n\t<tr><td> 3 </td><td>1  </td><td>11 </td><td>4  </td><td>110</td><td>3  </td><td>1  </td><td>23 </td><td>24 </td><td>2  </td></tr>\n\t<tr><td> 3 </td><td>2  </td><td>19 </td><td>1  </td><td>110</td><td>3  </td><td>1  </td><td>24 </td><td>18 </td><td>2  </td></tr>\n\t<tr><td> 3 </td><td>2  </td><td>24 </td><td>1  </td><td>130</td><td>3  </td><td>1  </td><td>25 </td><td>26 </td><td>2  </td></tr>\n\t<tr><td> 3 </td><td>2  </td><td>37 </td><td>1  </td><td>129</td><td>3  </td><td>1  </td><td>26 </td><td>26 </td><td>2  </td></tr>\n\t<tr><td> 3 </td><td>3  </td><td>44 </td><td>2  </td><td>124</td><td>3  </td><td>1  </td><td>27 </td><td>22 </td><td>2  </td></tr>\n\t<tr><td> 4 </td><td>3  </td><td>44 </td><td>1  </td><td>130</td><td>3  </td><td>1  </td><td>28 </td><td>25 </td><td>2  </td></tr>\n\t<tr><td> 5 </td><td>2  </td><td>31 </td><td>2  </td><td>132</td><td>3  </td><td>1  </td><td>29 </td><td>20 </td><td>2  </td></tr>\n\t<tr><td> 5 </td><td>3  </td><td>56 </td><td>1  </td><td>132</td><td>3  </td><td>1  </td><td>30 </td><td>25 </td><td>2  </td></tr>\n\t<tr><td> 6 </td><td>1  </td><td> 6 </td><td>1  </td><td>132</td><td>3  </td><td>1  </td><td>31 </td><td>23 </td><td>2  </td></tr>\n\t<tr><td> 6 </td><td>2  </td><td>34 </td><td>1  </td><td>132</td><td>3  </td><td>1  </td><td>32 </td><td>23 </td><td>2  </td></tr>\n\t<tr><td> 7 </td><td>3  </td><td>42 </td><td>4  </td><td> 52</td><td>3  </td><td>1  </td><td> 0 </td><td>26 </td><td>2  </td></tr>\n\t<tr><td> 8 </td><td>1  </td><td> 7 </td><td>1  </td><td> 52</td><td>2  </td><td>1  </td><td> 1 </td><td>25 </td><td>2  </td></tr>\n\t<tr><td> 8 </td><td>2  </td><td>24 </td><td>2  </td><td> 50</td><td>3  </td><td>1  </td><td> 2 </td><td>25 </td><td>2  </td></tr>\n\t<tr><td> 9 </td><td>2  </td><td>26 </td><td>1  </td><td> 58</td><td>3  </td><td>1  </td><td> 3 </td><td>30 </td><td>1  </td></tr>\n\t<tr><td> 9 </td><td>3  </td><td>54 </td><td>1  </td><td> 68</td><td>3  </td><td>1  </td><td> 4 </td><td>26 </td><td>2  </td></tr>\n\t<tr><td>10 </td><td>3  </td><td>43 </td><td>1  </td><td> 73</td><td>3  </td><td>1  </td><td> 5 </td><td>39 </td><td>1  </td></tr>\n\t<tr><td>11 </td><td>1  </td><td> 1 </td><td>2  </td><td> 76</td><td>3  </td><td>1  </td><td> 6 </td><td>29 </td><td>1  </td></tr>\n\t<tr><td>11 </td><td>2  </td><td>27 </td><td>1  </td><td> 71</td><td>3  </td><td>1  </td><td> 7 </td><td>24 </td><td>2  </td></tr>\n\t<tr><td>11 </td><td>3  </td><td>42 </td><td>1  </td><td> 71</td><td>3  </td><td>1  </td><td> 8 </td><td>25 </td><td>2  </td></tr>\n\t<tr><td>12 </td><td>1  </td><td>12 </td><td>1  </td><td> 63</td><td>3  </td><td>1  </td><td> 9 </td><td>27 </td><td>2  </td></tr>\n\t<tr><td>12 </td><td>2  </td><td>38 </td><td>1  </td><td> 71</td><td>3  </td><td>1  </td><td>10 </td><td>30 </td><td>1  </td></tr>\n\t<tr><td>13 </td><td>1  </td><td>12 </td><td>2  </td><td> 71</td><td>3  </td><td>1  </td><td>11 </td><td>28 </td><td>1  </td></tr>\n\t<tr><td>13 </td><td>2  </td><td>21 </td><td>1  </td><td> 72</td><td>3  </td><td>1  </td><td>12 </td><td>28 </td><td>1  </td></tr>\n\t<tr><td>13 </td><td>3  </td><td>45 </td><td>1  </td><td> 74</td><td>3  </td><td>1  </td><td>13 </td><td>29 </td><td>1  </td></tr>\n\t<tr><td>14 </td><td>1  </td><td> 2 </td><td>1  </td><td> 77</td><td>3  </td><td>1  </td><td>14 </td><td>23 </td><td>2  </td></tr>\n\t<tr><td>14 </td><td>2  </td><td>22 </td><td>1  </td><td> 82</td><td>3  </td><td>1  </td><td>15 </td><td>25 </td><td>2  </td></tr>\n\t<tr><td>15 </td><td>1  </td><td> 5 </td><td>1  </td><td> 77</td><td>3  </td><td>1  </td><td>16 </td><td>24 </td><td>2  </td></tr>\n\t<tr><td>...</td><td>...</td><td>...</td><td>...</td><td>...</td><td>...</td><td>...</td><td>...</td><td>...</td><td>...</td></tr>\n\t<tr><td>40 </td><td>3  </td><td>51 </td><td>1  </td><td> 75</td><td>9  </td><td>2  </td><td>13 </td><td>24 </td><td>2  </td></tr>\n\t<tr><td>41 </td><td>2  </td><td>33 </td><td>1  </td><td> 75</td><td>9  </td><td>2  </td><td>14 </td><td>24 </td><td>2  </td></tr>\n\t<tr><td>41 </td><td>3  </td><td>41 </td><td>1  </td><td> 75</td><td>9  </td><td>2  </td><td>15 </td><td>30 </td><td>1  </td></tr>\n\t<tr><td>42 </td><td>2  </td><td>29 </td><td>2  </td><td> 90</td><td>9  </td><td>2  </td><td>16 </td><td>29 </td><td>1  </td></tr>\n\t<tr><td>42 </td><td>3  </td><td>46 </td><td>1  </td><td> 90</td><td>9  </td><td>2  </td><td>17 </td><td>26 </td><td>2  </td></tr>\n\t<tr><td>43 </td><td>2  </td><td>31 </td><td>1  </td><td> 85</td><td>9  </td><td>2  </td><td>18 </td><td>25 </td><td>2  </td></tr>\n\t<tr><td>43 </td><td>3  </td><td>61 </td><td>1  </td><td> 88</td><td>9  </td><td>2  </td><td>19 </td><td>25 </td><td>2  </td></tr>\n\t<tr><td>44 </td><td>2  </td><td>25 </td><td>2  </td><td> 90</td><td>9  </td><td>2  </td><td>20 </td><td>25 </td><td>2  </td></tr>\n\t<tr><td>44 </td><td>3  </td><td>62 </td><td>1  </td><td> 92</td><td>9  </td><td>2  </td><td>21 </td><td>25 </td><td>2  </td></tr>\n\t<tr><td>45 </td><td>2  </td><td>25 </td><td>2  </td><td> 97</td><td>9  </td><td>2  </td><td>22 </td><td>25 </td><td>2  </td></tr>\n\t<tr><td>45 </td><td>3  </td><td>47 </td><td>1  </td><td> 97</td><td>9  </td><td>2  </td><td>23 </td><td>25 </td><td>2  </td></tr>\n\t<tr><td>46 </td><td>1  </td><td>13 </td><td>1  </td><td> 59</td><td>7  </td><td>2  </td><td> 1 </td><td>25 </td><td>2  </td></tr>\n\t<tr><td>46 </td><td>3  </td><td>52 </td><td>2  </td><td> 59</td><td>7  </td><td>2  </td><td> 2 </td><td>27 </td><td>2  </td></tr>\n\t<tr><td>47 </td><td>3  </td><td>50 </td><td>1  </td><td> 68</td><td>7  </td><td>2  </td><td> 3 </td><td>25 </td><td>2  </td></tr>\n\t<tr><td>48 </td><td>3  </td><td>49 </td><td>1  </td><td> 74</td><td>7  </td><td>2  </td><td> 4 </td><td>28 </td><td>1  </td></tr>\n\t<tr><td>49 </td><td>2  </td><td>33 </td><td>2  </td><td> 69</td><td>7  </td><td>2  </td><td> 5 </td><td>25 </td><td>2  </td></tr>\n\t<tr><td>49 </td><td>3  </td><td>63 </td><td>1  </td><td> 72</td><td>7  </td><td>2  </td><td> 6 </td><td>18 </td><td>1  </td></tr>\n\t<tr><td>50 </td><td>2  </td><td>25 </td><td>2  </td><td> 79</td><td>7  </td><td>2  </td><td> 7 </td><td>23 </td><td>2  </td></tr>\n\t<tr><td>50 </td><td>3  </td><td>57 </td><td>1  </td><td> 75</td><td>7  </td><td>2  </td><td> 8 </td><td>23 </td><td>2  </td></tr>\n\t<tr><td>51 </td><td>2  </td><td>33 </td><td>2  </td><td> 79</td><td>7  </td><td>2  </td><td> 9 </td><td>23 </td><td>2  </td></tr>\n\t<tr><td>51 </td><td>3  </td><td>59 </td><td>1  </td><td> 78</td><td>7  </td><td>2  </td><td>10 </td><td>21 </td><td>2  </td></tr>\n\t<tr><td>52 </td><td>2  </td><td>31 </td><td>2  </td><td> 99</td><td>7  </td><td>2  </td><td>11 </td><td>25 </td><td>2  </td></tr>\n\t<tr><td>53 </td><td>3  </td><td>63 </td><td>1  </td><td> 97</td><td>7  </td><td>2  </td><td>12 </td><td>27 </td><td>2  </td></tr>\n\t<tr><td>54 </td><td>2  </td><td>28 </td><td>1  </td><td>105</td><td>7  </td><td>2  </td><td>13 </td><td>29 </td><td>1  </td></tr>\n\t<tr><td>55 </td><td>2  </td><td>38 </td><td>1  </td><td>110</td><td>7  </td><td>2  </td><td>14 </td><td>26 </td><td>2  </td></tr>\n\t<tr><td>56 </td><td>2  </td><td>36 </td><td>1  </td><td>109</td><td>7  </td><td>2  </td><td>15 </td><td>30 </td><td>1  </td></tr>\n\t<tr><td>57 </td><td>1  </td><td>12 </td><td>2  </td><td>120</td><td>7  </td><td>2  </td><td>16 </td><td>26 </td><td>2  </td></tr>\n\t<tr><td>57 </td><td>2  </td><td>37 </td><td>1  </td><td>118</td><td>7  </td><td>2  </td><td>17 </td><td>26 </td><td>2  </td></tr>\n\t<tr><td>58 </td><td>1  </td><td>17 </td><td>1  </td><td> 59</td><td>7  </td><td>2  </td><td> 1 </td><td>26 </td><td>2  </td></tr>\n\t<tr><td>59 </td><td>1  </td><td>16 </td><td>1  </td><td> 71</td><td>7  </td><td>2  </td><td> 2 </td><td>25 </td><td>2  </td></tr>\n</tbody>\n</table>\n"
          },
          "metadata": {}
        }
      ]
    },
    {
      "metadata": {},
      "cell_type": "markdown",
      "source": "### Normalization\n\nDyePercentage, Teflon, and Thickness are numerical values but not categorical. So, these attributes are normalized using feature scaling. "
    },
    {
      "metadata": {
        "trusted": true
      },
      "cell_type": "code",
      "source": "dfNormTeflon <- scale(data[\"Teflon\"])\ndfNormDyePercentage <- scale(data[\"DyePercentage\"])\ndfNormThickness <- scale(data[\"Thickness\"])",
      "execution_count": 132,
      "outputs": []
    },
    {
      "metadata": {
        "trusted": true
      },
      "cell_type": "code",
      "source": "data[[\"Teflon\"]] <- dfNormTeflon\ndata[[\"DyePercentage\"]] <- dfNormDyePercentage\ndata[[\"Thickness\"]] <- dfNormThickness",
      "execution_count": 133,
      "outputs": []
    },
    {
      "metadata": {
        "trusted": true
      },
      "cell_type": "code",
      "source": "head(data)",
      "execution_count": 134,
      "outputs": [
        {
          "output_type": "display_data",
          "data": {
            "text/plain": "  Date Shift Time Experience DyePercentage Flow rate Part Teflon    Thickness \n1 1    3     50   1          0.9954620     3         1    0.4940906 -0.3665270\n2 2    2     20   1          0.8242053     3         1    0.5932727  0.1344315\n3 2    3     48   2          1.0382761     3         1    0.6924548 -0.3665270\n4 3    1     11   4          1.1667186     3         1    0.7916369 -0.6170062\n5 3    2     19   1          1.1667186     3         1    0.8908190 -2.1198816\n6 3    2     24   1          2.0230018     3         1    0.9900011 -0.1160477\n  IsDefective\n1 2          \n2 2          \n3 2          \n4 2          \n5 2          \n6 2          ",
            "text/latex": "\\begin{tabular}{r|llllllllll}\n Date & Shift & Time & Experience & DyePercentage & Flow rate & Part & Teflon & Thickness & IsDefective\\\\\n\\hline\n\t 1          & 3          & 50         & 1          & 0.9954620  & 3          & 1          & 0.4940906  & -0.3665270 & 2         \\\\\n\t 2          & 2          & 20         & 1          & 0.8242053  & 3          & 1          & 0.5932727  &  0.1344315 & 2         \\\\\n\t 2          & 3          & 48         & 2          & 1.0382761  & 3          & 1          & 0.6924548  & -0.3665270 & 2         \\\\\n\t 3          & 1          & 11         & 4          & 1.1667186  & 3          & 1          & 0.7916369  & -0.6170062 & 2         \\\\\n\t 3          & 2          & 19         & 1          & 1.1667186  & 3          & 1          & 0.8908190  & -2.1198816 & 2         \\\\\n\t 3          & 2          & 24         & 1          & 2.0230018  & 3          & 1          & 0.9900011  & -0.1160477 & 2         \\\\\n\\end{tabular}\n",
            "text/markdown": "\n| Date | Shift | Time | Experience | DyePercentage | Flow rate | Part | Teflon | Thickness | IsDefective |\n|---|---|---|---|---|---|---|---|---|---|\n| 1          | 3          | 50         | 1          | 0.9954620  | 3          | 1          | 0.4940906  | -0.3665270 | 2          |\n| 2          | 2          | 20         | 1          | 0.8242053  | 3          | 1          | 0.5932727  |  0.1344315 | 2          |\n| 2          | 3          | 48         | 2          | 1.0382761  | 3          | 1          | 0.6924548  | -0.3665270 | 2          |\n| 3          | 1          | 11         | 4          | 1.1667186  | 3          | 1          | 0.7916369  | -0.6170062 | 2          |\n| 3          | 2          | 19         | 1          | 1.1667186  | 3          | 1          | 0.8908190  | -2.1198816 | 2          |\n| 3          | 2          | 24         | 1          | 2.0230018  | 3          | 1          | 0.9900011  | -0.1160477 | 2          |\n\n",
            "text/html": "<table>\n<thead><tr><th scope=col>Date</th><th scope=col>Shift</th><th scope=col>Time</th><th scope=col>Experience</th><th scope=col>DyePercentage</th><th scope=col>Flow rate</th><th scope=col>Part</th><th scope=col>Teflon</th><th scope=col>Thickness</th><th scope=col>IsDefective</th></tr></thead>\n<tbody>\n\t<tr><td>1         </td><td>3         </td><td>50        </td><td>1         </td><td>0.9954620 </td><td>3         </td><td>1         </td><td>0.4940906 </td><td>-0.3665270</td><td>2         </td></tr>\n\t<tr><td>2         </td><td>2         </td><td>20        </td><td>1         </td><td>0.8242053 </td><td>3         </td><td>1         </td><td>0.5932727 </td><td> 0.1344315</td><td>2         </td></tr>\n\t<tr><td>2         </td><td>3         </td><td>48        </td><td>2         </td><td>1.0382761 </td><td>3         </td><td>1         </td><td>0.6924548 </td><td>-0.3665270</td><td>2         </td></tr>\n\t<tr><td>3         </td><td>1         </td><td>11        </td><td>4         </td><td>1.1667186 </td><td>3         </td><td>1         </td><td>0.7916369 </td><td>-0.6170062</td><td>2         </td></tr>\n\t<tr><td>3         </td><td>2         </td><td>19        </td><td>1         </td><td>1.1667186 </td><td>3         </td><td>1         </td><td>0.8908190 </td><td>-2.1198816</td><td>2         </td></tr>\n\t<tr><td>3         </td><td>2         </td><td>24        </td><td>1         </td><td>2.0230018 </td><td>3         </td><td>1         </td><td>0.9900011 </td><td>-0.1160477</td><td>2         </td></tr>\n</tbody>\n</table>\n"
          },
          "metadata": {}
        }
      ]
    },
    {
      "metadata": {},
      "cell_type": "markdown",
      "source": "#### Splitting data"
    },
    {
      "metadata": {
        "trusted": true
      },
      "cell_type": "code",
      "source": "sample <- sample.int(n = nrow(X), size = floor(.75*nrow(data)), replace = F)\ntrain_data <- data[sample, ]\ntest_data  <- data[-sample, ]",
      "execution_count": 135,
      "outputs": []
    },
    {
      "metadata": {},
      "cell_type": "markdown",
      "source": "Target feature must be a `factor` to be set a suitable `model`. "
    },
    {
      "metadata": {
        "trusted": true
      },
      "cell_type": "code",
      "source": "train_data$IsDefective <- as.factor(train_data$IsDefective)\nclass(train_data$IsDefective)",
      "execution_count": 142,
      "outputs": [
        {
          "output_type": "display_data",
          "data": {
            "text/plain": "[1] \"factor\"",
            "text/latex": "'factor'",
            "text/markdown": "'factor'",
            "text/html": "'factor'"
          },
          "metadata": {}
        }
      ]
    },
    {
      "metadata": {},
      "cell_type": "markdown",
      "source": "Model is created to `fit` train data using `glm` function."
    },
    {
      "metadata": {
        "trusted": true
      },
      "cell_type": "code",
      "source": "model <- glm(IsDefective ~ ., data=train_data, family=binomial)",
      "execution_count": 144,
      "outputs": []
    },
    {
      "metadata": {
        "trusted": true
      },
      "cell_type": "code",
      "source": "summary(model)",
      "execution_count": 145,
      "outputs": [
        {
          "output_type": "display_data",
          "data": {
            "text/plain": "\nCall:\nglm(formula = IsDefective ~ ., family = binomial, data = train_data)\n\nDeviance Residuals: \n    Min       1Q   Median       3Q      Max  \n-4.4186  -0.2250   0.1556   0.4250   1.0791  \n\nCoefficients:\n               Estimate Std. Error z value Pr(>|z|)    \n(Intercept)    1.910476   1.254653   1.523    0.128    \nDate          -0.008431   0.014543  -0.580    0.562    \nShift         -0.604811   0.870012  -0.695    0.487    \nTime           0.019822   0.040211   0.493    0.622    \nExperience    -0.030355   0.369732  -0.082    0.935    \nDyePercentage -0.411387   0.335469  -1.226    0.220    \n`Flow rate`    0.138057   0.142161   0.971    0.331    \nPart          -0.222135   0.354055  -0.627    0.530    \nTeflon         0.303462   0.335431   0.905    0.366    \nThickness     -3.972168   0.551031  -7.209 5.65e-13 ***\n---\nSignif. codes:  0 ‘***’ 0.001 ‘**’ 0.01 ‘*’ 0.05 ‘.’ 0.1 ‘ ’ 1\n\n(Dispersion parameter for binomial family taken to be 1)\n\n    Null deviance: 312.35  on 244  degrees of freedom\nResidual deviance: 137.89  on 235  degrees of freedom\nAIC: 157.89\n\nNumber of Fisher Scoring iterations: 6\n"
          },
          "metadata": {}
        }
      ]
    },
    {
      "metadata": {
        "trusted": true
      },
      "cell_type": "code",
      "source": "predictTrain = predict(model, type=\"response\")",
      "execution_count": 146,
      "outputs": []
    },
    {
      "metadata": {
        "trusted": true
      },
      "cell_type": "code",
      "source": "summary(predictTrain)",
      "execution_count": 147,
      "outputs": [
        {
          "output_type": "display_data",
          "data": {
            "text/plain": "     Min.   1st Qu.    Median      Mean   3rd Qu.      Max. \n0.0000061 0.2989648 0.8670079 0.6653061 0.9767098 0.9999424 "
          },
          "metadata": {}
        }
      ]
    },
    {
      "metadata": {
        "trusted": true
      },
      "cell_type": "code",
      "source": "table(train_data$IsDefective, predictTrain > 0.5)",
      "execution_count": 149,
      "outputs": [
        {
          "output_type": "display_data",
          "data": {
            "text/plain": "   \n    FALSE TRUE\n  1    77    5\n  2     0  163"
          },
          "metadata": {}
        }
      ]
    },
    {
      "metadata": {
        "trusted": true
      },
      "cell_type": "code",
      "source": "predictTest = predict(model, type = \"response\", newdata = test_data)",
      "execution_count": 169,
      "outputs": []
    },
    {
      "metadata": {
        "trusted": true
      },
      "cell_type": "code",
      "source": "table(test_data$IsDefective, predictTest > 0.5)",
      "execution_count": 170,
      "outputs": [
        {
          "output_type": "display_data",
          "data": {
            "text/plain": "   \n    FALSE TRUE\n  1    24    6\n  2     1   51"
          },
          "metadata": {}
        }
      ]
    },
    {
      "metadata": {},
      "cell_type": "markdown",
      "source": "So, number of data which is predicted as true is 75(24+51). So, 24 is number of data which is predicted as `false` and has actual value is `false`. 51 is number of data which is predicted as `true` and has actual value is `true`. 6 is number of data which is predicted as `true` and has actual value is `false`. 1 is number of data which is predicted as `false` and has actual value is `true`. "
    },
    {
      "metadata": {
        "trusted": true
      },
      "cell_type": "code",
      "source": "(24+51)/(24+51+7)",
      "execution_count": 171,
      "outputs": [
        {
          "output_type": "display_data",
          "data": {
            "text/plain": "[1] 0.9146341",
            "text/latex": "0.914634146341463",
            "text/markdown": "0.914634146341463",
            "text/html": "0.914634146341463"
          },
          "metadata": {}
        }
      ]
    },
    {
      "metadata": {
        "trusted": true
      },
      "cell_type": "markdown",
      "source": "So, accuracy of model is 0.91. "
    },
    {
      "metadata": {
        "trusted": true
      },
      "cell_type": "code",
      "source": "",
      "execution_count": null,
      "outputs": []
    }
  ],
  "metadata": {
    "kernelspec": {
      "name": "r",
      "display_name": "R",
      "language": "R"
    },
    "language_info": {
      "mimetype": "text/x-r-source",
      "name": "R",
      "pygments_lexer": "r",
      "version": "3.4.1",
      "file_extension": ".r",
      "codemirror_mode": "r"
    }
  },
  "nbformat": 4,
  "nbformat_minor": 2
}